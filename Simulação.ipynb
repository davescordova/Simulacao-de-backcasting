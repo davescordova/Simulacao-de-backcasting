{
 "cells": [
  {
   "cell_type": "code",
   "execution_count": 11,
   "id": "eb7380b3",
   "metadata": {},
   "outputs": [
    {
     "name": "stdout",
     "output_type": "stream",
     "text": [
      "Usando PyMC versão: 5.26.1\n",
      "Modo Qiskit: Novo (>=1.0)\n",
      "================================================================================\n",
      "INICIANDO PIPELINE DE MODELOS\n",
      "================================================================================\n"
     ]
    }
   ],
   "source": [
    "#Preparação de dados e econometria clássica\n",
    "import pandas as pd\n",
    "import numpy as np\n",
    "import statsmodels.api as sm\n",
    "from statsmodels.tsa.statespace.structural import UnobservedComponents\n",
    "from sklearn.metrics import mean_absolute_error, mean_squared_error, r2_score\n",
    "from statsmodels.tsa.ar_model import AutoReg\n",
    "\n",
    "#Modelos de Mudança de Regime (Modelo de Regressão com Mudança de Regime de Markov):\n",
    "    # em vez de um único modelo de regressão para explicar a série inteira, há vários modelos\n",
    "from statsmodels.tsa.regime_switching.markov_regression import MarkovRegression\n",
    "\n",
    "#Modelagem Bayesiana:\n",
    "    # parâmetros como variáveis aleatórias: tem uma distribuição de probabilidade, portanto com incerteza\n",
    "    #resultado é uma distribuição de probabilidade\n",
    "        #prior: crença sobre o parâmetro antes de ver os dados\n",
    "        #likelihood: como os dados são gerados, função de verossimilhança\n",
    "        #posterior: crença atualizada sobre o parâmetro após ver os dados\n",
    "import pymc as pm\n",
    "import arviz as az\n",
    "\n",
    "#Visualização de dados\n",
    "import plotly.graph_objects as go\n",
    "import plotly.express as px\n",
    "import plotly.colors \n",
    "import seaborn as sns\n",
    "import warnings\n",
    "from scipy.optimize import minimize\n",
    "from pygam import LinearGAM, s, f\n",
    "import plotly.graph_objects as go\n",
    "import plotly.colors\n",
    "import os\n",
    "import matplotlib.pyplot as plt\n",
    "import matplotlib.ticker as mtick\n",
    "import seaborn as sns\n",
    "import os\n",
    "import numpy as np\n",
    "\n",
    "#Modelos Aditivos Generalizados (GAM)\n",
    "    # Em vez de forçar uma relação linear, o GAM substitui esse termo por uma função suave e flexível\n",
    "    #spline:divide o intervalo de $x$ em seções (definidas por \"nós\" ou knots) \n",
    "        # e ajusta funções mais simples (como pequenos polinômios cúbicos) em cada seção\n",
    "from scipy.stats import norm\n",
    "\n",
    "#Computação quântica: \n",
    "    #Uso de Otimização Combinatória: QAOA não é puramente quântico; ele é um algoritmo híbrido. \n",
    "        #Clássico 💻: O otimizador COBYLA (clássico) \"chuta\" um conjunto inicial de parâmetros (ângulos) para o circuito quântico.\n",
    "        # Quântico ⚛️: O QAOAAnsatz (o circuito quântico) é montado com esses parâmetros. \n",
    "            # Ele é executado no processador quântico (ou simulador), usando superposição\n",
    "            # e emaranhamento para explorar o vasto espaço de soluções do seu QuadraticProgram.\n",
    "        # Quântico ⚛️: O circuito é medido, \"colapsando\" para uma solução candidata (ex: \"rota A\") e seu respectivo \"custo\".\n",
    "        # Clássico 💻: O COBYLA recebe esse custo.\n",
    "            # Ele então usa sua lógica clássica para decidir um novo conjunto de parâmetros para o circuito quântico, tentando obter um custo menor.\n",
    "\n",
    "\n",
    "from qiskit import QuantumCircuit\n",
    "from qiskit_algorithms.optimizers import COBYLA\n",
    "from qiskit_algorithms import QAOA\n",
    "from qiskit.circuit.library import TwoLocal, QAOAAnsatz\n",
    "from qiskit_optimization import QuadraticProgram\n",
    "from qiskit_optimization.algorithms import MinimumEigenOptimizer\n",
    "\n",
    "\n",
    "# Usar o Sampler correto dependendo da versão\n",
    "try:\n",
    "    # Para Qiskit >= 1.0\n",
    "    from qiskit.primitives import Sampler\n",
    "    QISKIT_NEW = True\n",
    "except ImportError:\n",
    "    # Para versões antigas\n",
    "    try:\n",
    "        from qiskit_aer.primitives import Sampler\n",
    "        QISKIT_NEW = False\n",
    "    except ImportError:\n",
    "        # Fallback: usar StatevectorSampler\n",
    "        from qiskit.primitives import StatevectorSampler as Sampler\n",
    "        QISKIT_NEW = True\n",
    "\n",
    "from qiskit.quantum_info import SparsePauliOp\n",
    "\n",
    "from tqdm import tqdm\n",
    "import time\n",
    "\n",
    "warnings.filterwarnings(\"ignore\")\n",
    "\n",
    "print(f\"Usando PyMC versão: {pm.__version__}\")\n",
    "print(f\"Modo Qiskit: {'Novo (>=1.0)' if QISKIT_NEW else 'Legacy'}\")\n",
    "print(\"=\"*80)\n",
    "print(\"INICIANDO PIPELINE DE MODELOS\")\n",
    "print(\"=\"*80)"
   ]
  },
  {
   "cell_type": "code",
   "execution_count": 2,
   "id": "88cfc988",
   "metadata": {},
   "outputs": [
    {
     "name": "stdout",
     "output_type": "stream",
     "text": [
      "\n",
      "DADOS SIMULADOS (ainda sem Gini_Lag):\n",
      "Gini por Regime: {0: 0.4, 1: 0.43, 2: 0.46}\n",
      "Primeiras linhas do DataFrame:\n",
      "    Ano      PIB_pc  Urbanizacao  Industrializacao  Educacao  Gini_Verdadeiro  \\\n",
      "0  1872  417.208801         0.05         -0.008906  0.013242         0.350000   \n",
      "1  1873  395.155205         0.05         -0.013185 -0.012422         0.350000   \n",
      "2  1874  467.381449         0.05          0.036170 -0.002062         0.376359   \n",
      "3  1875  519.945747         0.05          0.016229  0.011559         0.350000   \n",
      "4  1876  559.001227         0.05          0.035544  0.002394         0.350000   \n",
      "\n",
      "   Regime_Verdadeiro  Gini_Observado  \n",
      "0                  0             NaN  \n",
      "1                  0             NaN  \n",
      "2                  0             NaN  \n",
      "3                  0             NaN  \n",
      "4                  0             NaN  \n",
      "================================================================================\n",
      "✓ Gráfico Gini vs Regimes salvo como gini_regimes_plot.png\n",
      "✓ Gráfico Covariáveis salvo como covariaveis_plot.png\n",
      "================================================================================\n",
      "\n",
      "[Seleção de Lags via AIC]\n",
      "→ Selecionando número de lags para Gini (max 10)...\n",
      "⚠ Erro na seleção automática de lags (AutoReg.__init__() got an unexpected keyword argument 'ic'), usando k=1.\n",
      "✓ Número de lags selecionados (k): 1\n",
      "→ Criando colunas de lag no DataFrame principal...\n",
      "  ✓ Coluna 'Gini_Lag_1' criada e preenchida.\n",
      "→ Atualizando DataFrames moderno e histórico...\n",
      "  ✓ df_moderno (47 obs) e df_historico (104 obs) atualizados.\n",
      "\n",
      "Primeiras linhas do DataFrame com colunas de lag:\n",
      "    Ano      PIB_pc  Urbanizacao  Industrializacao  Educacao  Gini_Verdadeiro  \\\n",
      "0  1872  417.208801         0.05         -0.008906  0.013242         0.350000   \n",
      "1  1873  395.155205         0.05         -0.013185 -0.012422         0.350000   \n",
      "2  1874  467.381449         0.05          0.036170 -0.002062         0.376359   \n",
      "3  1875  519.945747         0.05          0.016229  0.011559         0.350000   \n",
      "4  1876  559.001227         0.05          0.035544  0.002394         0.350000   \n",
      "\n",
      "   Regime_Verdadeiro  Gini_Observado  Gini_Lag_1  \n",
      "0                  0             NaN    0.350000  \n",
      "1                  0             NaN    0.350000  \n",
      "2                  0             NaN    0.350000  \n",
      "3                  0             NaN    0.376359  \n",
      "4                  0             NaN    0.350000  \n",
      "================================================================================\n"
     ]
    }
   ],
   "source": [
    "\n",
    "# ===========================\n",
    "# 1. SIMULAÇÃO DE DADOS (COM NOVOS VALORES DE REGIME)\n",
    "# ===========================\n",
    "np.random.seed(1872)\n",
    "anos = np.arange(1872, 2023)\n",
    "n_anos = len(anos)\n",
    "pib_pc = 500 * np.exp(np.linspace(0, 1.5, n_anos)) + np.random.normal(0, 50, n_anos)\n",
    "urbanizacao = 0.8 / (1 + np.exp(-0.05 * (anos - 1990))) + np.random.normal(0, 0.02, n_anos)\n",
    "urbanizacao = np.clip(urbanizacao, 0.05, 0.85)\n",
    "industrializacao = 0.6 / (1 + np.exp(-0.06 * (anos - 1980))) + np.random.normal(0, 0.02, n_anos)\n",
    "educacao = 0.7 / (1 + np.exp(-0.04 * (anos - 1985))) + np.random.normal(0, 0.015, n_anos)\n",
    "\n",
    "regimes_verdadeiros = np.zeros(n_anos, dtype=int)\n",
    "gini_por_regime = {0: 0.40, 1: 0.43, 2: 0.46}\n",
    "volatilidade_regime = {0: 0.025, 1: 0.015, 2: 0.020}\n",
    "regime_atual = 0\n",
    "for i in range(n_anos):\n",
    "    ano_atual = anos[i]\n",
    "    if ano_atual < 1930: regime_atual = 0\n",
    "    elif 1930 <= ano_atual < 1960: regime_atual = 1\n",
    "    elif 1960 <= ano_atual < 2000: regime_atual = 0\n",
    "    else: regime_atual = 2\n",
    "    regimes_verdadeiros[i] = regime_atual\n",
    "\n",
    "tendencia = 0.6 - 0.10 * ((anos - 1872) / 150)\n",
    "ciclica = -0.05 * np.sin(np.pi * (anos - 1872) / 40)\n",
    "estrutural = 0.03 * np.cos(np.pi * (anos - 1872) / 25)\n",
    "gini_regime = np.array([gini_por_regime[r] for r in regimes_verdadeiros])\n",
    "noise_regime = np.array([np.random.normal(0, volatilidade_regime[r]) for r in regimes_verdadeiros])\n",
    "gini_real = 0.1 * tendencia + 0.7 * gini_regime + 0.1 * ciclica + 0.1 * estrutural + noise_regime\n",
    "gini_real = np.clip(gini_real, 0.35, 0.55)\n",
    "\n",
    "df = pd.DataFrame({\n",
    "    'Ano': anos, 'PIB_pc': pib_pc, 'Urbanizacao': urbanizacao,\n",
    "    'Industrializacao': industrializacao, 'Educacao': educacao,\n",
    "    'Gini_Verdadeiro': gini_real, 'Regime_Verdadeiro': regimes_verdadeiros\n",
    "})\n",
    "\n",
    "ano_inicio_pnad = 1976\n",
    "# Criar Gini_Observado para seleção de lags \n",
    "df['Gini_Observado'] = np.nan\n",
    "mask_moderno_inicial = df['Ano'] >= ano_inicio_pnad\n",
    "df.loc[mask_moderno_inicial, 'Gini_Observado'] = df.loc[mask_moderno_inicial, 'Gini_Verdadeiro'] + \\\n",
    "                                                np.random.normal(0, 0.01, mask_moderno_inicial.sum())\n",
    "n_total = len(df)\n",
    "\n",
    "print(\"\\nDADOS SIMULADOS (ainda sem Gini_Lag):\")\n",
    "print(f\"Gini por Regime: {gini_por_regime}\")\n",
    "print(\"Primeiras linhas do DataFrame:\")\n",
    "print(df.head())\n",
    "print(\"=\"*80)\n",
    "\n",
    "# ===========================\n",
    "# VISUALIZAÇÃO DOS DADOS\n",
    "# ===========================\n",
    "df_moderno_grafico = df[df['Ano'] >= ano_inicio_pnad].copy() \n",
    "sns.set_style(\"whitegrid\")\n",
    "plt.rcParams['figure.dpi'] = 100\n",
    "\n",
    "# Gráfico 1: Gini e Regimes\n",
    "fig, ax1 = plt.subplots(figsize=(16, 6))\n",
    "sns.lineplot(data=df, x='Ano', y='Gini_Verdadeiro', label='Gini Verdadeiro (Latente)', ax=ax1, color='blue', linewidth=2.5)\n",
    "sns.scatterplot(data=df_moderno_grafico, x='Ano', y='Gini_Observado', label=f'Gini Observado (pós-{ano_inicio_pnad})', ax=ax1, color='red', s=50, zorder=5)\n",
    "ax1.set_title('Simulação do Índice Gini e Regimes Estruturais (1872-2022)', fontsize=16, pad=20)\n",
    "ax1.set_ylabel('Índice Gini', fontsize=12, color='blue')\n",
    "ax1.set_xlabel('Ano', fontsize=12)\n",
    "ax1.tick_params(axis='y', labelcolor='blue')\n",
    "ax2 = ax1.twinx()\n",
    "ax2.fill_between(df['Ano'], df['Regime_Verdadeiro'], step='pre', alpha=0.2, color='gray', label='Regime (Eixo Direito)')\n",
    "ax2.set_ylabel('Regime Estrutural', fontsize=12, color='gray')\n",
    "ax2.tick_params(axis='y', labelcolor='gray', labelsize=9)\n",
    "tick_locs = np.unique(regimes_verdadeiros)\n",
    "ax2.set_yticks(tick_locs)\n",
    "regime_nomes = [f\"Regime {r} (Gini ~{gini_por_regime[r]})\" for r in tick_locs]\n",
    "ax2.set_yticklabels(regime_nomes)\n",
    "ax2.grid(False)\n",
    "lines, labels = ax1.get_legend_handles_labels()\n",
    "lines2, labels2 = ax2.get_legend_handles_labels()\n",
    "ax2.legend(lines + lines2, labels + labels2, loc='upper left')\n",
    "plt.tight_layout()\n",
    "plt.savefig(\"gini_regimes_plot.png\")\n",
    "plt.close(fig)\n",
    "print(\"✓ Gráfico Gini vs Regimes salvo como gini_regimes_plot.png\")\n",
    "\n",
    "# Gráfico 2: Covariáveis\n",
    "fig, axes = plt.subplots(4, 1, figsize=(16, 12), sharex=True)\n",
    "fig.suptitle('Evolução das Covariáveis Simuladas (1872-2022)', fontsize=18, y=1.02)\n",
    "sns.lineplot(data=df, x='Ano', y='PIB_pc', ax=axes[0], color='green'); axes[0].set_title('PIB per capita', fontsize=12); axes[0].set_ylabel('Valor')\n",
    "sns.lineplot(data=df, x='Ano', y='Urbanizacao', ax=axes[1], color='orange'); axes[1].set_title('Taxa de Urbanização', fontsize=12); axes[1].set_ylabel('Taxa (0-1)')\n",
    "sns.lineplot(data=df, x='Ano', y='Industrializacao', ax=axes[2], color='purple'); axes[2].set_title('Nível de Industrialização', fontsize=12); axes[2].set_ylabel('Nível (0-1)')\n",
    "sns.lineplot(data=df, x='Ano', y='Educacao', ax=axes[3], color='brown'); axes[3].set_title('Nível de Educação', fontsize=12); axes[3].set_ylabel('Nível (0-1)')\n",
    "axes[3].set_xlabel('Ano', fontsize=12)\n",
    "plt.tight_layout()\n",
    "plt.savefig(\"covariaveis_plot.png\")\n",
    "plt.close(fig)\n",
    "print(\"✓ Gráfico Covariáveis salvo como covariaveis_plot.png\")\n",
    "print(\"=\"*80)\n",
    "\n",
    "# --- SELEÇÃO DE LAGS PARA O GINI (BASEADO NO AIC) ---\n",
    "print(\"\\n[Seleção de Lags via AIC]\")\n",
    "print(\"→ Selecionando número de lags para Gini (max 10)...\")\n",
    "gini_moderno_observado = df.loc[mask_moderno_inicial, 'Gini_Observado'].dropna()\n",
    "\n",
    "k_lags_selecionados = 1 # Valor padrão caso a seleção falhe\n",
    "\n",
    "if len(gini_moderno_observado) > 10: # Checagem mínima de dados\n",
    "    try:\n",
    "        # Instanciar AutoReg para seleção de ordem\n",
    "        # Passamos lags=None e ic='aic' para que ele escolha a melhor ordem até maxlag\n",
    "        model_select = AutoReg(gini_moderno_observado, lags=None, trend='n', # trend='n' foca na autocorrelação\n",
    "                                ic='aic', old_names=False) # old_names=False para compatibilidade\n",
    "        results_select = model_select.fit(cov_type=\"nonrobust\") # Ajusta para obter a seleção\n",
    "\n",
    "        # Extrair os lags selecionados do resultado\n",
    "        selected_lags = results_select.ar_lags\n",
    "        k_lags_selecionados = max(selected_lags) if selected_lags is not None and len(selected_lags) > 0 else 1\n",
    "        # Usamos o lag máximo encontrado, ou 1 se nenhum for selecionado\n",
    "\n",
    "    except Exception as e:\n",
    "        print(f\"⚠ Erro na seleção automática de lags ({e}), usando k=1.\")\n",
    "        k_lags_selecionados = 1\n",
    "else:\n",
    "    print(\"⚠ Dados insuficientes para seleção automática, usando k=1.\")\n",
    "    k_lags_selecionados = 1\n",
    "\n",
    "print(f\"✓ Número de lags selecionados (k): {k_lags_selecionados}\")\n",
    "\n",
    "# --- CRIAÇÃO DAS COLUNAS DE LAG  ---\n",
    "print(\"→ Criando colunas de lag no DataFrame principal...\")\n",
    "lag_cols_names = []\n",
    "for i in range(1, k_lags_selecionados + 1):\n",
    "    col_name = f'Gini_Lag_{i}'\n",
    "    df[col_name] = df['Gini_Verdadeiro'].shift(i)\n",
    "    # Preencher NaNs iniciais com o primeiro valor de Gini_Verdadeiro\n",
    "    df[col_name].fillna(df['Gini_Verdadeiro'].iloc[0], inplace=True)\n",
    "    lag_cols_names.append(col_name)\n",
    "    print(f\"  ✓ Coluna '{col_name}' criada e preenchida.\")\n",
    "\n",
    "# --- ATUALIZAR df_moderno e df_historico (permanece igual) ---\n",
    "print(\"→ Atualizando DataFrames moderno e histórico...\")\n",
    "df_moderno = df[df['Ano'] >= ano_inicio_pnad].copy()\n",
    "df_historico = df[df['Ano'] < ano_inicio_pnad].copy()\n",
    "n_historico = len(df_historico)\n",
    "n_moderno = len(df_moderno)\n",
    "print(f\"  ✓ df_moderno ({n_moderno} obs) e df_historico ({n_historico} obs) atualizados.\")\n",
    "\n",
    "print(\"\\nPrimeiras linhas do DataFrame com colunas de lag:\")\n",
    "print(df.head())\n",
    "print(\"=\"*80)\n",
    "\n",
    "# --- LISTA DE PREDITORES BASE E DE LAGS (permanece igual) ---\n",
    "predictors_base = ['PIB_pc', 'Urbanizacao', 'Industrializacao', 'Educacao']\n",
    "predictors_lags = lag_cols_names\n",
    "# --- FIM DAS LISTAS ---\n"
   ]
  },
  {
   "cell_type": "code",
   "execution_count": 3,
   "id": "0654709f",
   "metadata": {},
   "outputs": [
    {
     "name": "stdout",
     "output_type": "stream",
     "text": [
      "\n",
      "[1/6] MODELO OLS (Baseline com k=1 Lags)\n",
      "→ Preditores OLS: ['PIB_pc', 'Urbanizacao', 'Industrializacao', 'Educacao', 'Gini_Lag_1']\n"
     ]
    },
    {
     "name": "stderr",
     "output_type": "stream",
     "text": [
      "OLS: 100%|██████████| 100/100"
     ]
    },
    {
     "name": "stdout",
     "output_type": "stream",
     "text": [
      "✓ R²: 0.2597 | AIC: -226.71\n",
      "                            OLS Regression Results                            \n",
      "==============================================================================\n",
      "Dep. Variable:         Gini_Observado   R-squared:                       0.260\n",
      "Model:                            OLS   Adj. R-squared:                  0.169\n",
      "Method:                 Least Squares   F-statistic:                     2.876\n",
      "Date:                Fri, 24 Oct 2025   Prob (F-statistic):             0.0257\n",
      "Time:                        15:02:45   Log-Likelihood:                 119.36\n",
      "No. Observations:                  47   AIC:                            -226.7\n",
      "Df Residuals:                      41   BIC:                            -215.6\n",
      "Df Model:                           5                                         \n",
      "Covariance Type:            nonrobust                                         \n",
      "====================================================================================\n",
      "                       coef    std err          t      P>|t|      [0.025      0.975]\n",
      "------------------------------------------------------------------------------------\n",
      "const                0.3294      0.087      3.801      0.000       0.154       0.504\n",
      "PIB_pc            -5.26e-05    5.3e-05     -0.992      0.327      -0.000    5.45e-05\n",
      "Urbanizacao          0.0045      0.122      0.037      0.971      -0.241       0.250\n",
      "Industrializacao     0.1948      0.143      1.361      0.181      -0.094       0.484\n",
      "Educacao             0.0473      0.185      0.255      0.800      -0.327       0.422\n",
      "Gini_Lag_1           0.0615      0.216      0.284      0.778      -0.375       0.498\n",
      "==============================================================================\n",
      "Omnibus:                        4.933   Durbin-Watson:                   2.058\n",
      "Prob(Omnibus):                  0.085   Jarque-Bera (JB):                3.750\n",
      "Skew:                           0.624   Prob(JB):                        0.153\n",
      "Kurtosis:                       3.597   Cond. No.                     1.44e+05\n",
      "==============================================================================\n",
      "\n",
      "Notes:\n",
      "[1] Standard Errors assume that the covariance matrix of the errors is correctly specified.\n",
      "[2] The condition number is large, 1.44e+05. This might indicate that there are\n",
      "strong multicollinearity or other numerical problems.\n",
      "================================================================================\n"
     ]
    },
    {
     "name": "stderr",
     "output_type": "stream",
     "text": [
      "\n"
     ]
    }
   ],
   "source": [
    "# ===========================\n",
    "# 2. MODELO OLS BASELINE (com k lags)\n",
    "# ===========================\n",
    "print(f\"\\n[1/6] MODELO OLS (Baseline com k={k_lags_selecionados} Lags)\")\n",
    "predictors_ols = predictors_base + predictors_lags # Combina base + lags\n",
    "print(f\"→ Preditores OLS: {predictors_ols}\")\n",
    "\n",
    "with tqdm(total=100, desc=\"OLS\", bar_format='{l_bar}{bar}| {n_fmt}/{total_fmt}') as pbar:\n",
    "    X_moderno_ols = df_moderno[predictors_ols]\n",
    "    X_moderno_ols = sm.add_constant(X_moderno_ols)\n",
    "    y_moderno_ols = df_moderno['Gini_Observado']\n",
    "    pbar.update(30)\n",
    "\n",
    "    modelo_ols = sm.OLS(y_moderno_ols, X_moderno_ols).fit()\n",
    "    pbar.update(40)\n",
    "\n",
    "    X_historico_ols = df_historico[predictors_ols]\n",
    "    X_historico_ols = sm.add_constant(X_historico_ols)\n",
    "    df_historico['Gini_OLS'] = modelo_ols.predict(X_historico_ols)\n",
    "    pbar.update(30)\n",
    "\n",
    "print(f\"✓ R²: {modelo_ols.rsquared:.4f} | AIC: {modelo_ols.aic:.2f}\")\n",
    "print(modelo_ols.summary())\n",
    "print(\"=\"*80)"
   ]
  },
  {
   "cell_type": "code",
   "execution_count": 4,
   "id": "d7396678",
   "metadata": {},
   "outputs": [
    {
     "name": "stdout",
     "output_type": "stream",
     "text": [
      "\n",
      "[2/6] MARKOV SWITCHING REGRESSION (com k=1 Lags)\n",
      "→ Preditores Markov: ['PIB_pc', 'Urbanizacao', 'Gini_Lag_1']\n",
      "  (Número total de coeficientes por regime: 4)\n"
     ]
    },
    {
     "name": "stderr",
     "output_type": "stream",
     "text": [
      "Markov:  20%|██        | 20/100"
     ]
    },
    {
     "name": "stdout",
     "output_type": "stream",
     "text": [
      "⚠ Falhou: Steady-state probabilities could not be constructed.\n",
      "→ Usando K-means como fallback...\n"
     ]
    },
    {
     "name": "stderr",
     "output_type": "stream",
     "text": [
      "\n"
     ]
    },
    {
     "name": "stdout",
     "output_type": "stream",
     "text": [
      "\n",
      "================================================================================\n",
      "SUMÁRIO DO FALLBACK (K-Means + OLS por cluster)\n",
      "================================================================================\n",
      "Clusters (regimes) encontrados: 2\n",
      "Variáveis usadas no OLS: ['const'] + ['PIB_pc', 'Urbanizacao', 'Gini_Lag_1']\n",
      "\n",
      "--- Coeficientes para Regime (Cluster) 0 ---\n",
      "  const: 0.382153\n",
      "  PIB_pc: -0.000148\n",
      "  Urbanizacao: 0.335148\n",
      "  Gini_Lag_1: 0.238504\n",
      "\n",
      "--- Coeficientes para Regime (Cluster) 1 ---\n",
      "  const: 0.176603\n",
      "  PIB_pc: 0.000103\n",
      "  Urbanizacao: -0.207605\n",
      "  Gini_Lag_1: 0.297377\n",
      "\n",
      "Último regime observado: 1\n",
      "→ Coeficientes do Regime 1 serão usados para o backcasting.\n",
      "================================================================================\n"
     ]
    }
   ],
   "source": [
    "\n",
    "# ===========================\n",
    "# 3. MARKOV SWITCHING REGRESSION (com k lags)\n",
    "# ===========================\n",
    "print(f\"\\n[2/6] MARKOV SWITCHING REGRESSION (com k={k_lags_selecionados} Lags)\")\n",
    "predictors_markov_base_subset = ['PIB_pc', 'Urbanizacao'] # Usando subconjunto base para Markov\n",
    "predictors_markov = predictors_markov_base_subset + predictors_lags # Combina subconjunto base + lags\n",
    "print(f\"→ Preditores Markov: {predictors_markov}\")\n",
    "\n",
    "X_markov = df_moderno[predictors_markov].values\n",
    "y_markov = df_moderno['Gini_Observado'].values\n",
    "X_markov_const = sm.add_constant(X_markov)\n",
    "\n",
    "# --- Atualizar número de preditores para Markov ---\n",
    "num_predictors_markov = len(predictors_markov) + 1 # +1 para constante\n",
    "print(f\"  (Número total de coeficientes por regime: {num_predictors_markov})\")\n",
    "# --- Fim da atualização ---\n",
    "\n",
    "try:\n",
    "    with tqdm(total=100, desc=\"Markov\", bar_format='{l_bar}{bar}| {n_fmt}/{total_fmt}') as pbar:\n",
    "        pbar.set_postfix_str(\"Inicializando modelo...\")\n",
    "        modelo_markov = MarkovRegression(\n",
    "            endog=y_markov, k_regimes=2, exog=X_markov_const, switching_variance=True\n",
    "        )\n",
    "        pbar.update(20)\n",
    "\n",
    "        pbar.set_postfix_str(\"Estimando (max 500 iter)...\")\n",
    "        resultado_markov = modelo_markov.fit(maxiter=500, disp=False)\n",
    "        pbar.update(60)\n",
    "\n",
    "        prob_regimes = resultado_markov.smoothed_marginal_probabilities\n",
    "        regime_mais_provavel = np.argmax(prob_regimes, axis=1)\n",
    "        pbar.update(10)\n",
    "\n",
    "        # Backcasting\n",
    "        X_hist_markov = df_historico[predictors_markov].values\n",
    "        X_hist_markov_const = sm.add_constant(X_hist_markov)\n",
    "        ultimo_regime = regime_mais_provavel[-1]\n",
    "\n",
    "        # --- Ajustar índices dos parâmetros dinamicamente ---\n",
    "        params = resultado_markov.params\n",
    "        if ultimo_regime == 0:\n",
    "             coefs_pred = params[:num_predictors_markov]\n",
    "        else:\n",
    "             coefs_pred = params[num_predictors_markov:(2 * num_predictors_markov)]\n",
    "        # --- Fim do ajuste ---\n",
    "\n",
    "        df_historico['Gini_Markov'] = X_hist_markov_const @ coefs_pred\n",
    "        pbar.update(5)\n",
    "\n",
    "        sigma_regime = np.sqrt(params[-(modelo_markov.k_regimes):])\n",
    "        sigma_usado = sigma_regime[ultimo_regime]\n",
    "        df_historico['Gini_Markov_Low'] = df_historico['Gini_Markov'] - 1.96 * sigma_usado\n",
    "        df_historico['Gini_Markov_High'] = df_historico['Gini_Markov'] + 1.96 * sigma_usado\n",
    "        pbar.update(5)\n",
    "\n",
    "        df_moderno['Prob_Regime_0'] = prob_regimes[:, 0]\n",
    "        df_moderno['Prob_Regime_1'] = prob_regimes[:, 1]\n",
    "        df_moderno['Regime_Inferido'] = regime_mais_provavel\n",
    "\n",
    "        markov_success = True\n",
    "\n",
    "    print(f\"✓ Convergência OK | AIC: {resultado_markov.aic:.2f}\")\n",
    "    print(\"\\n\" + \"=\"*80)\n",
    "    print(\"SUMÁRIO DO MODELO MARKOV SWITCHING (treinado nos dados modernos)\")\n",
    "    print(\"=\"*80)\n",
    "    print(resultado_markov.summary())\n",
    "    print(\"=\"*80)\n",
    "\n",
    "except Exception as e:\n",
    "    print(f\"⚠ Falhou: {e}\")\n",
    "    print(\"→ Usando K-means como fallback...\")\n",
    "\n",
    "    # K-means e OLS por cluster\n",
    "    kmeans = KMeans(n_clusters=2, random_state=42, n_init=10)\n",
    "    kmeans_data = np.column_stack([y_markov, X_markov])\n",
    "    regime_mais_provavel = kmeans.fit_predict(kmeans_data)\n",
    "\n",
    "    coefs_regimes = []\n",
    "    for r in range(2):\n",
    "        mask = regime_mais_provavel == r\n",
    "        X_r = X_markov_const[mask]\n",
    "        y_r = y_markov[mask]\n",
    "        coefs_r = np.linalg.lstsq(X_r, y_r, rcond=None)[0]\n",
    "        coefs_regimes.append(coefs_r)\n",
    "\n",
    "    ultimo_regime = regime_mais_provavel[-1]\n",
    "    X_hist_markov_const = sm.add_constant(df_historico[predictors_markov].values)\n",
    "    df_historico['Gini_Markov'] = X_hist_markov_const @ coefs_regimes[ultimo_regime]\n",
    "    df_historico['Gini_Markov_Low'] = df_historico['Gini_Markov'] - 0.03 # Intervalo fixo\n",
    "    df_historico['Gini_Markov_High'] = df_historico['Gini_Markov'] + 0.03 # Intervalo fixo\n",
    "    df_moderno['Regime_Inferido'] = regime_mais_provavel\n",
    "    markov_success = False\n",
    "\n",
    "    print(\"\\n\" + \"=\"*80)\n",
    "    print(\"SUMÁRIO DO FALLBACK (K-Means + OLS por cluster)\")\n",
    "    print(\"=\"*80)\n",
    "    print(f\"Clusters (regimes) encontrados: {len(coefs_regimes)}\")\n",
    "    print(f\"Variáveis usadas no OLS: ['const'] + {predictors_markov}\")\n",
    "    for r, coefs in enumerate(coefs_regimes):\n",
    "        print(f\"\\n--- Coeficientes para Regime (Cluster) {r} ---\")\n",
    "        print(f\"  const: {coefs[0]:.6f}\")\n",
    "        for i, pred_name in enumerate(predictors_markov):\n",
    "             print(f\"  {pred_name}: {coefs[i+1]:.6f}\")\n",
    "\n",
    "    print(f\"\\nÚltimo regime observado: {ultimo_regime}\")\n",
    "    print(f\"→ Coeficientes do Regime {ultimo_regime} serão usados para o backcasting.\")\n",
    "    print(\"=\"*80)"
   ]
  },
  {
   "cell_type": "code",
   "execution_count": 5,
   "id": "7248e493",
   "metadata": {},
   "outputs": [
    {
     "name": "stdout",
     "output_type": "stream",
     "text": [
      "\n",
      "[3/6] GENERALIZED ADDITIVE MODELS (GAMs com k=1 Lags)\n",
      "→ Preditores GAM: ['PIB_pc', 'Urbanizacao', 'Industrializacao', 'Educacao', 'Gini_Lag_1']\n",
      "  (Número de splines por preditor: [8, 6, 6, 6, 6])\n"
     ]
    },
    {
     "name": "stderr",
     "output_type": "stream",
     "text": [
      "GAM:   0%|          | 0/100  0% (0 of 11) |                         | Elapsed Time: 0:00:00 ETA:  --:--:--\n",
      " 27% (3 of 11) |######                   | Elapsed Time: 0:00:00 ETA:   0:00:00\n",
      " 72% (8 of 11) |##################       | Elapsed Time: 0:00:00 ETA:   0:00:00\n",
      "100% (11 of 11) |########################| Elapsed Time: 0:00:00 Time:  0:00:00\n",
      "GAM: 100%|██████████| 100/100"
     ]
    },
    {
     "name": "stdout",
     "output_type": "stream",
     "text": [
      "✓ Pseudo R²: 0.5812\n",
      "\n",
      "================================================================================\n",
      "SUMÁRIO DO MODELO GAM (treinado nos dados modernos)\n",
      "================================================================================\n",
      "LinearGAM                                                                                                 \n",
      "=============================================== ==========================================================\n",
      "Distribution:                        NormalDist Effective DoF:                                     11.9334\n",
      "Link Function:                     IdentityLink Log Likelihood:                                -63094.0804\n",
      "Number of Samples:                           47 AIC:                                           126214.0277\n",
      "                                                AICc:                                          126224.9273\n",
      "                                                GCV:                                                0.0005\n",
      "                                                Scale:                                              0.0003\n",
      "                                                Pseudo R-Squared:                                   0.5812\n",
      "==========================================================================================================\n",
      "Feature Function                  Lambda               Rank         EDoF         P > x        Sig. Code   \n",
      "================================= ==================== ============ ============ ============ ============\n",
      "s(0)                              [0.2512]             8            5.1          6.06e-01                 \n",
      "s(1)                              [0.2512]             6            2.4          3.71e-02     *           \n",
      "s(2)                              [0.2512]             6            1.7          1.78e-01                 \n",
      "s(3)                              [0.2512]             6            1.3          6.52e-02     .           \n",
      "s(4)                              [0.2512]             6            1.4          4.83e-02     *           \n",
      "intercept                                              1            0.0          1.11e-16     ***         \n",
      "==========================================================================================================\n",
      "Significance codes:  0 '***' 0.001 '**' 0.01 '*' 0.05 '.' 0.1 ' ' 1\n",
      "\n",
      "WARNING: Fitting splines and a linear function to a feature introduces a model identifiability problem\n",
      "         which can cause p-values to appear significant when they are not.\n",
      "\n",
      "WARNING: p-values calculated in this manner behave correctly for un-penalized models or models with\n",
      "         known smoothing parameters, but when smoothing parameters have been estimated, the p-values\n",
      "         are typically lower than they should be, meaning that the tests reject the null too readily.\n",
      "None\n",
      "================================================================================\n"
     ]
    },
    {
     "name": "stderr",
     "output_type": "stream",
     "text": [
      "\n"
     ]
    }
   ],
   "source": [
    "# ===========================\n",
    "# 4. GENERALIZED ADDITIVE MODELS (GAMs) (com k lags)\n",
    "# ===========================\n",
    "print(f\"\\n[3/6] GENERALIZED ADDITIVE MODELS (GAMs com k={k_lags_selecionados} Lags)\")\n",
    "predictors_gam = predictors_base + predictors_lags # Combina base + lags\n",
    "print(f\"→ Preditores GAM: {predictors_gam}\")\n",
    "\n",
    "X_gam_treino = df_moderno[predictors_gam].values\n",
    "y_gam_treino = df_moderno['Gini_Observado'].values\n",
    "\n",
    "# --- Ajustar n_splines_list e gam_terms dinamicamente ---\n",
    "n_splines_base = [8, 6, 6, 6]\n",
    "n_splines_lags = [6] * k_lags_selecionados\n",
    "n_splines_list = n_splines_base + n_splines_lags\n",
    "print(f\"  (Número de splines por preditor: {n_splines_list})\")\n",
    "\n",
    "gam_terms = None\n",
    "num_total_predictors_gam = len(predictors_gam)\n",
    "for i in range(num_total_predictors_gam):\n",
    "    term = s(i, n_splines=n_splines_list[i])\n",
    "    if gam_terms is None:\n",
    "        gam_terms = term\n",
    "    else:\n",
    "        gam_terms += term\n",
    "# --- Fim do ajuste ---\n",
    "\n",
    "\n",
    "with tqdm(total=100, desc=\"GAM\", bar_format='{l_bar}{bar}| {n_fmt}/{total_fmt}') as pbar:\n",
    "    pbar.set_postfix_str(\"Grid search...\")\n",
    "    gam_model = LinearGAM(gam_terms)\n",
    "\n",
    "    gam_model.gridsearch(X_gam_treino, y_gam_treino)\n",
    "    pbar.update(70)\n",
    "\n",
    "    X_gam_historico = df_historico[predictors_gam].values\n",
    "    df_historico['Gini_GAM'] = gam_model.predict(X_gam_historico)\n",
    "    pbar.update(20)\n",
    "\n",
    "    gam_intervals = gam_model.prediction_intervals(X_gam_historico, width=0.95)\n",
    "    df_historico['Gini_GAM_Low'] = gam_intervals[:, 0]\n",
    "    df_historico['Gini_GAM_High'] = gam_intervals[:, 1]\n",
    "    pbar.update(10)\n",
    "\n",
    "print(f\"✓ Pseudo R²: {gam_model.statistics_['pseudo_r2']['explained_deviance']:.4f}\")\n",
    "print(\"\\n\" + \"=\"*80)\n",
    "print(\"SUMÁRIO DO MODELO GAM (treinado nos dados modernos)\")\n",
    "print(\"=\"*80)\n",
    "print(gam_model.summary())\n",
    "print(\"=\"*80)"
   ]
  },
  {
   "cell_type": "code",
   "execution_count": 6,
   "id": "6628dc59",
   "metadata": {},
   "outputs": [
    {
     "name": "stdout",
     "output_type": "stream",
     "text": [
      "\n",
      "[4/6] MODELO DE SÉRIE TEMPORAL ESTRUTURAL (UCM)\n"
     ]
    },
    {
     "name": "stderr",
     "output_type": "stream",
     "text": [
      "TimeSeries: 100%|██████████| 100/100"
     ]
    },
    {
     "name": "stdout",
     "output_type": "stream",
     "text": [
      "✓ AIC (modelo forward): -165.66\n",
      "\n",
      "================================================================================\n",
      "SUMÁRIO DO MODELO UCM (treinado nos dados modernos - forward)\n",
      "================================================================================\n",
      "                            Unobserved Components Results                            \n",
      "=====================================================================================\n",
      "Dep. Variable:                Gini_Observado   No. Observations:                   47\n",
      "Model:                    local linear trend   Log Likelihood                  88.832\n",
      "                   + damped stochastic cycle   AIC                           -165.663\n",
      "Date:                       Fri, 24 Oct 2025   BIC                           -155.096\n",
      "Time:                               15:03:20   HQIC                          -161.766\n",
      "Sample:                                    0                                         \n",
      "                                        - 47                                         \n",
      "Covariance Type:                         opg                                         \n",
      "====================================================================================\n",
      "                       coef    std err          z      P>|z|      [0.025      0.975]\n",
      "------------------------------------------------------------------------------------\n",
      "sigma2.irregular     0.0003      0.000      0.846      0.398      -0.000       0.001\n",
      "sigma2.level      5.119e-06      0.002      0.003      0.998      -0.004       0.004\n",
      "sigma2.trend      9.747e-05      0.000      0.276      0.783      -0.001       0.001\n",
      "sigma2.cycle         0.0003      0.000      0.846      0.398      -0.000       0.001\n",
      "frequency.cycle      1.5708         -0       -inf      0.000       1.571       1.571\n",
      "damping.cycle             0   1.46e-22          0      1.000   -2.87e-22    2.87e-22\n",
      "===================================================================================\n",
      "Ljung-Box (L1) (Q):                   4.93   Jarque-Bera (JB):                 0.94\n",
      "Prob(Q):                              0.03   Prob(JB):                         0.63\n",
      "Heteroskedasticity (H):               1.03   Skew:                            -0.22\n",
      "Prob(H) (two-sided):                  0.95   Kurtosis:                         2.43\n",
      "===================================================================================\n",
      "\n",
      "Warnings:\n",
      "[1] Covariance matrix calculated using the outer product of gradients (complex-step).\n",
      "[2] Covariance matrix is singular or near-singular, with condition number    inf. Standard errors may be unstable.\n",
      "================================================================================\n"
     ]
    },
    {
     "name": "stderr",
     "output_type": "stream",
     "text": [
      "\n"
     ]
    }
   ],
   "source": [
    "# ===========================\n",
    "# 5. SÉRIE TEMPORAL ESTRUTURAL (UCM - Sem alterações)\n",
    "# ===========================\n",
    "print(\"\\n[4/6] MODELO DE SÉRIE TEMPORAL ESTRUTURAL (UCM)\")\n",
    "ts_data = df_moderno.set_index('Ano')['Gini_Observado']\n",
    "\n",
    "with tqdm(total=100, desc=\"TimeSeries\", bar_format='{l_bar}{bar}| {n_fmt}/{total_fmt}') as pbar:\n",
    "    pbar.set_postfix_str(\"Modelo forward...\")\n",
    "    modelo_uc = UnobservedComponents(\n",
    "        ts_data, level='local linear trend', cycle=True,\n",
    "        stochastic_cycle=True, damped_cycle=True, irregular=True\n",
    "    )\n",
    "    resultado_uc = modelo_uc.fit(disp=False)\n",
    "    pbar.update(40)\n",
    "\n",
    "    pbar.set_postfix_str(\"Modelo backward...\")\n",
    "    ts_invertida = ts_data[::-1]\n",
    "    modelo_uc_inv = UnobservedComponents(\n",
    "        ts_invertida, level='local linear trend', cycle=True,\n",
    "        stochastic_cycle=True, damped_cycle=True, irregular=True\n",
    "    )\n",
    "    resultado_uc_inv = modelo_uc_inv.fit(disp=False)\n",
    "    pbar.update(40)\n",
    "\n",
    "    pbar.set_postfix_str(\"Backcasting...\")\n",
    "    forecast_inv = resultado_uc_inv.forecast(steps=n_historico)\n",
    "    df_historico['Gini_TimeSeries'] = forecast_inv[::-1].values\n",
    "    forecast_summary = resultado_uc_inv.get_forecast(steps=n_historico).summary_frame(alpha=0.05)\n",
    "    df_historico['Gini_TS_Low'] = forecast_summary['mean_ci_lower'][::-1].values\n",
    "    df_historico['Gini_TS_High'] = forecast_summary['mean_ci_upper'][::-1].values\n",
    "    pbar.update(20)\n",
    "\n",
    "print(f\"✓ AIC (modelo forward): {resultado_uc.aic:.2f}\")\n",
    "print(\"\\n\" + \"=\"*80)\n",
    "print(\"SUMÁRIO DO MODELO UCM (treinado nos dados modernos - forward)\")\n",
    "print(\"=\"*80)\n",
    "print(resultado_uc.summary())\n",
    "print(\"=\"*80)"
   ]
  },
  {
   "cell_type": "code",
   "execution_count": 7,
   "id": "40e4a7eb",
   "metadata": {},
   "outputs": [
    {
     "name": "stdout",
     "output_type": "stream",
     "text": [
      "\n",
      "[5/6] MODELO BAYESIANO HIERÁRQUICO (OTIMIZADO com k=1 Lags)\n",
      "→ Normalizando preditores (incluindo 1 lags)...\n",
      "  (Colunas normalizadas: ['PIB_pc_norm', 'Urbanizacao_norm', 'Industrializacao_norm', 'Educacao_norm', 'Gini_Lag_1_norm'])\n",
      "→ Usando 47 observações de df_moderno['Gini_Observado']\n",
      "→ Amostragem MCMC: 4 chains × 3000 iterações\n",
      "  (target_accept=0.95)\n"
     ]
    },
    {
     "name": "stderr",
     "output_type": "stream",
     "text": [
      "Initializing NUTS using jitter+adapt_diag...\n",
      "Multiprocess sampling (4 chains in 4 jobs)\n",
      "NUTS: [alpha, betas, sigma_temporal, tendencia_passos, sigma]\n"
     ]
    },
    {
     "data": {
      "text/html": [
       "<pre style=\"white-space:pre;overflow-x:auto;line-height:normal;font-family:Menlo,'DejaVu Sans Mono',consolas,'Courier New',monospace\"></pre>\n"
      ],
      "text/plain": []
     },
     "metadata": {},
     "output_type": "display_data"
    },
    {
     "name": "stderr",
     "output_type": "stream",
     "text": [
      "Sampling 4 chains for 1_500 tune and 1_500 draw iterations (6_000 + 6_000 draws total) took 66 seconds.\n",
      "There were 4 divergences after tuning. Increase `target_accept` or reparameterize.\n",
      "The rhat statistic is larger than 1.01 for some parameters. This indicates problems during sampling. See https://arxiv.org/abs/1903.08008 for details\n",
      "The effective sample size per chain is smaller than 100 for some parameters.  A higher number is needed for reliable rhat and ess computation. See https://arxiv.org/abs/1903.08008 for details\n"
     ]
    },
    {
     "name": "stdout",
     "output_type": "stream",
     "text": [
      "✓ BLACKJAX usado com sucesso\n",
      "\n",
      "======================================================================\n",
      "DIAGNÓSTICOS DO MODELO\n",
      "======================================================================\n",
      "⚠ Erro nos diagnósticos: unsupported format string passed to method.__format__\n",
      "======================================================================\n",
      "\n",
      "→ Extraindo predições posteriores...\n",
      "✓ Predições extraídas (104 anos)\n",
      "\n",
      "✓ Etapa Bayesiana concluída\n",
      "================================================================================\n"
     ]
    }
   ],
   "source": [
    "# ===========================\n",
    "# 6. MODELO BAYESIANO HIERÁRQUICO (com k lags)\n",
    "# ===========================\n",
    "print(f\"\\n[5/6] MODELO BAYESIANO HIERÁRQUICO (OTIMIZADO com k={k_lags_selecionados} Lags)\")\n",
    "\n",
    "if df_moderno.empty or len(df_moderno) < 10:\n",
    "    print(\"⚠ Dados insuficientes para modelo Bayesiano. Pulando...\")\n",
    "    df_historico['Gini_Bayes_Hierarquico'] = np.nan\n",
    "    df_historico['Gini_Bayes_Low'] = np.nan\n",
    "    df_historico['Gini_Bayes_High'] = np.nan\n",
    "else:\n",
    "    # --- Atualizar colunas para normalização e coords ---\n",
    "    print(f\"→ Normalizando preditores (incluindo {k_lags_selecionados} lags)...\")\n",
    "    scaler_bayes = StandardScaler()\n",
    "    cols_norm_bayes = predictors_base + predictors_lags # Usa k lags\n",
    "    norm_cols_names_bayes = [col + '_norm' for col in predictors_base] + \\\n",
    "                            [col + '_norm' for col in predictors_lags] # Nomes normalizados\n",
    "    print(f\"  (Colunas normalizadas: {norm_cols_names_bayes})\")\n",
    "\n",
    "    df[norm_cols_names_bayes] = scaler_bayes.fit_transform(df[cols_norm_bayes])\n",
    "\n",
    "    mask_historico = df['Ano'] < ano_inicio_pnad\n",
    "    mask_moderno = df['Ano'] >= ano_inicio_pnad\n",
    "    historico_idx = np.where(mask_historico)[0]\n",
    "    moderno_idx = np.where(mask_moderno)[0]\n",
    "\n",
    "    coords = {\"preditores\": norm_cols_names_bayes} # Atualizado coords\n",
    "    X_data_total = df[coords[\"preditores\"]].values\n",
    "    # --- Fim da atualização ---\n",
    "\n",
    "    gini_col = 'Gini_Observado'\n",
    "    if gini_col not in df_moderno.columns:\n",
    "         gini_col = 'Gini_Verdadeiro'; print(f\"→ Usando coluna: '{gini_col}'\")\n",
    "\n",
    "    try:\n",
    "        y_observado = df_moderno[gini_col].dropna().values\n",
    "        print(f\"→ Usando {len(y_observado)} observações de df_moderno['{gini_col}']\")\n",
    "    except Exception as e:\n",
    "        print(f\"✗ Erro ao extrair y_observado: {e}\"); raise\n",
    "\n",
    "    n_total = len(df)\n",
    "    bayesian_run_success = False\n",
    "    trace_avancado = None\n",
    "\n",
    "    with pm.Model(coords=coords) as modelo_bayes_avancado:\n",
    "        alpha = pm.Normal('alpha', mu=0.55, sigma=0.1)\n",
    "        # --- O modelo adapta-se automaticamente aos preditores via dims ---\n",
    "        betas = pm.Normal('betas', mu=0, sigma=0.3, dims=\"preditores\")\n",
    "        # --- Fim da adaptação ---\n",
    "\n",
    "        sigma_temporal = pm.HalfNormal('sigma_temporal', sigma=0.01)\n",
    "        tendencia_passos = pm.Normal('tendencia_passos', mu=0, sigma=sigma_temporal, shape=n_total)\n",
    "        tendencia = pm.Deterministic('tendencia', pm.math.cumsum(tendencia_passos))\n",
    "\n",
    "        sigma = pm.HalfNormal('sigma', sigma=0.02)\n",
    "        mu = alpha + pm.math.dot(X_data_total, betas) + tendencia # Usa X_data_total com k lags norm\n",
    "\n",
    "        y_obs = pm.Normal('y_obs', mu=mu[moderno_idx], sigma=sigma, observed=y_observado)\n",
    "        mu_hist = pm.Deterministic('mu_hist', mu[historico_idx])\n",
    "\n",
    "        print(\"→ Amostragem MCMC: 4 chains × 3000 iterações\")\n",
    "        print(\"  (target_accept=0.95)\")\n",
    "        samplers_config = [(\"blackjax\", {\"sampler\": \"blackjax\"}), (\"nuts\", {})]\n",
    "\n",
    "        for sampler_name, sampler_kwargs in samplers_config:\n",
    "            try:\n",
    "                trace_avancado = pm.sample(draws=1500, tune=1500, chains=4, target_accept=0.95, progressbar=True, return_inferencedata=True, **sampler_kwargs)\n",
    "                print(f\"✓ {sampler_name.upper()} usado com sucesso\")\n",
    "                bayesian_run_success = True\n",
    "                break\n",
    "            except Exception as e:\n",
    "                print(f\"⚠ {sampler_name.upper()} falhou: {str(e)[:100]}\")\n",
    "                if sampler_name == samplers_config[-1][0]: print(\"✗ Todos os samplers falharam\")\n",
    "                else: print(\"→ Tentando próximo sampler...\")\n",
    "\n",
    "    if bayesian_run_success and trace_avancado is not None:\n",
    "        print(\"\\n\" + \"=\"*70); print(\"DIAGNÓSTICOS DO MODELO\"); print(\"=\"*70)\n",
    "        try:\n",
    "            rhat = az.rhat(trace_avancado, var_names=[\"alpha\", \"betas\"])\n",
    "            ess = az.ess(trace_avancado, var_names=[\"alpha\", \"betas\"])\n",
    "            print(f\"R-hat máximo: {rhat.max().values:.4f} (ideal < 1.01)\")\n",
    "            print(f\"ESS mínimo: {ess.min().values:.0f} (ideal > 400)\")\n",
    "            summary_bayes = az.summary(trace_avancado, var_names=[\"alpha\", \"betas\", \"sigma_temporal\", \"sigma\"], stat_focus=\"median\")\n",
    "            print(\"\\nPARÂMETROS PRINCIPAIS:\"); print(summary_bayes[['mean', 'sd', 'hdi_3%', 'hdi_97%', 'r_hat']])\n",
    "        except Exception as e: print(f\"⚠ Erro nos diagnósticos: {e}\")\n",
    "        print(\"=\"*70)\n",
    "\n",
    "        try:\n",
    "            print(\"\\n→ Extraindo predições posteriores...\")\n",
    "            posterior_pred = trace_avancado.posterior['mu_hist']\n",
    "            df_historico['Gini_Bayes_Hierarquico'] = posterior_pred.mean(dim=['chain', 'draw']).values\n",
    "            hdi = az.hdi(posterior_pred, hdi_prob=0.95)\n",
    "            df_historico['Gini_Bayes_Low'] = hdi['mu_hist'].sel(hdi='lower').values\n",
    "            df_historico['Gini_Bayes_High'] = hdi['mu_hist'].sel(hdi='higher').values\n",
    "            print(f\"✓ Predições extraídas ({len(df_historico)} anos)\")\n",
    "        except KeyError as e:\n",
    "            print(f\"⚠ Variável não encontrada no trace: {e} → Usando fallback (NaN)\"); df_historico[['Gini_Bayes_Hierarquico', 'Gini_Bayes_Low', 'Gini_Bayes_High']] = np.nan\n",
    "        except Exception as e:\n",
    "            print(f\"⚠ Erro inesperado na extração: {e}\"); df_historico[['Gini_Bayes_Hierarquico', 'Gini_Bayes_Low', 'Gini_Bayes_High']] = np.nan\n",
    "    else:\n",
    "        print(\"\\n⚠ Amostragem MCMC falhou completamente → Série Bayesiana não disponível\"); df_historico[['Gini_Bayes_Hierarquico', 'Gini_Bayes_Low', 'Gini_Bayes_High']] = np.nan\n",
    "\n",
    "print(\"\\n✓ Etapa Bayesiana concluída\")\n",
    "print(\"=\"*80)"
   ]
  },
  {
   "cell_type": "code",
   "execution_count": 8,
   "id": "d1c21bd6",
   "metadata": {},
   "outputs": [
    {
     "name": "stdout",
     "output_type": "stream",
     "text": [
      "\n",
      "[6/6] COMPUTAÇÃO QUÂNTICA: QAOA (com k=1 Lags)\n",
      "→ Preditores QAOA: ['PIB_pc', 'Urbanizacao', 'Industrializacao', 'Educacao', 'Gini_Lag_1']\n",
      "⚠ Versão otimizada: 10 qubits (5 vars × 2 bits/var), 30 iterações\n"
     ]
    },
    {
     "name": "stderr",
     "output_type": "stream",
     "text": [
      "QAOA: 100%|██████████| 100/100"
     ]
    },
    {
     "name": "stdout",
     "output_type": "stream",
     "text": [
      "✓ Concluído em 855.5s\n",
      "\n",
      "================================================================================\n",
      "SUMÁRIO DO MODELO QUÂNTICO (QAOA com k=1 Lags)\n",
      "================================================================================\n",
      "--- Resultado Bruto (Bits Ótimos) ---\n",
      "fval=0.0, beta_0_0=0.0, beta_0_1=0.0, beta_1_0=0.0, beta_1_1=0.0, beta_2_0=0.0, beta_2_1=0.0, beta_3_0=0.0, beta_3_1=0.0, beta_4_0=0.0, beta_4_1=0.0, status=SUCCESS\n",
      "\n",
      "--- Coeficientes Finais Reconstruídos ---\n",
      " (Valores de 2 bits antes da normalização: [0. 0. 0. 0. 0.])\n",
      " (Valores normalizados [0,1]: [0. 0. 0. 0. 0.])\n",
      "\n",
      "Coeficientes Finais (usados na previsão):\n",
      "  beta_PIB_pc: -0.100000\n",
      "  beta_Urbanizacao: -0.100000\n",
      "  beta_Industrializacao: -0.100000\n",
      "  beta_Educacao: -0.100000\n",
      "  beta_Gini_Lag_1: -0.100000\n",
      "================================================================================\n",
      "\n",
      "================================================================================\n",
      "✓ PIPELINE COMPLETO\n",
      "================================================================================\n"
     ]
    },
    {
     "name": "stderr",
     "output_type": "stream",
     "text": [
      "\n"
     ]
    }
   ],
   "source": [
    "# ===========================\n",
    "# 7. COMPUTAÇÃO QUÂNTICA (QAOA) - VERSÃO RÁPIDA (com k lags)\n",
    "# ===========================\n",
    "print(f\"\\n[6/6] COMPUTAÇÃO QUÂNTICA: QAOA (com k={k_lags_selecionados} Lags)\")\n",
    "\n",
    "# --- Atualizar preditores e número de variáveis/qubits ---\n",
    "predictors_qaoa = predictors_base + predictors_lags # Combina base + k lags\n",
    "print(f\"→ Preditores QAOA: {predictors_qaoa}\")\n",
    "n_vars = len(predictors_qaoa) # Número de variáveis (4 base + k lags)\n",
    "n_bits = 2 # Mantido 2 bits por variável\n",
    "n_qubits = n_vars * n_bits\n",
    "print(f\"⚠ Versão otimizada: {n_qubits} qubits ({n_vars} vars × {n_bits} bits/var), 30 iterações\")\n",
    "# --- Fim da atualização ---\n",
    "\n",
    "\n",
    "X_quantum = df_moderno[predictors_qaoa].values\n",
    "y_quantum = df_moderno['Gini_Observado'].values\n",
    "\n",
    "# Normalização\n",
    "X_min = X_quantum.min(axis=0); X_max = X_quantum.max(axis=0)\n",
    "y_min = y_quantum.min(); y_max = y_quantum.max()\n",
    "X_quantum_norm = 2 * (X_quantum - X_min) / (X_max - X_min) - 1\n",
    "y_quantum_norm = 2 * (y_quantum - y_min) / (y_max - y_min) - 1\n",
    "\n",
    "n_samples = 5 # Mantido baixo\n",
    "X_q = X_quantum_norm[:n_samples]; y_q = y_quantum_norm[:n_samples]\n",
    "XtX = X_q.T @ X_q; Xty = X_q.T @ y_q\n",
    "\n",
    "qp = QuadraticProgram()\n",
    "\n",
    "with tqdm(total=100, desc=\"QAOA\", bar_format='{l_bar}{bar}| {n_fmt}/{total_fmt}') as pbar:\n",
    "    pbar.set_postfix_str(\"Montando problema...\")\n",
    "    # --- Loops atualizados para n_vars ---\n",
    "    for i in range(n_vars):\n",
    "        for j in range(n_bits):\n",
    "            qp.binary_var(f'beta_{i}_{j}')\n",
    "\n",
    "    linear = {}; quadratic = {}\n",
    "    for i in range(n_vars):\n",
    "        for b in range(n_bits):\n",
    "            var_name = f'beta_{i}_{b}'; weight = 2 ** b\n",
    "            linear[var_name] = -2 * Xty[i] * weight\n",
    "            for j in range(n_vars):\n",
    "                for b2 in range(n_bits):\n",
    "                    var_name2 = f'beta_{j}_{b2}'; weight2 = 2 ** b2\n",
    "                    if var_name <= var_name2:\n",
    "                        quadratic[(var_name, var_name2)] = XtX[i, j] * weight * weight2\n",
    "    # --- Fim da atualização ---\n",
    "\n",
    "    qp.minimize(linear=linear, quadratic=quadratic)\n",
    "    pbar.update(20)\n",
    "\n",
    "    try:\n",
    "        pbar.set_postfix_str(\"Inicializando sampler...\")\n",
    "        sampler = Sampler()\n",
    "        qaoa = QAOA(sampler=sampler, optimizer=COBYLA(maxiter=30), reps=2)\n",
    "        optimizer = MinimumEigenOptimizer(qaoa)\n",
    "        pbar.update(10)\n",
    "\n",
    "        pbar.set_postfix_str(\"Otimizando (30 iter)...\")\n",
    "        start_time = time.time()\n",
    "        resultado_qaoa = optimizer.solve(qp)\n",
    "        elapsed = time.time() - start_time\n",
    "        pbar.update(60)\n",
    "\n",
    "        # --- Reconstrução e Previsão atualizadas para n_vars ---\n",
    "        coefs_quanticos = np.zeros(n_vars)\n",
    "        for i in range(n_vars):\n",
    "            for b in range(n_bits):\n",
    "                var_name = f'beta_{i}_{b}'\n",
    "                if var_name in resultado_qaoa.variables_dict:\n",
    "                    coefs_quanticos[i] += resultado_qaoa.variables_dict[var_name] * (2 ** b)\n",
    "\n",
    "        coefs_quanticos_norm = coefs_quanticos / (2 ** n_bits)\n",
    "        coefs_quanticos_final = coefs_quanticos_norm * 0.2 - 0.1 # Heurística\n",
    "\n",
    "        X_hist_qaoa = df_historico[predictors_qaoa].values # Usa df_historico com k lags\n",
    "        X_hist_norm = 2 * (X_hist_qaoa - X_min) / (X_max - X_min) - 1\n",
    "        pred_quantum_norm = X_hist_norm @ coefs_quanticos_final\n",
    "        df_historico['Gini_Quantum'] = (pred_quantum_norm + 1) / 2 * (y_max - y_min) + y_min\n",
    "        # --- Fim da atualização ---\n",
    "        pbar.update(10)\n",
    "\n",
    "        quantum_success = True\n",
    "        print(f\"✓ Concluído em {elapsed:.1f}s\")\n",
    "\n",
    "        print(\"\\n\" + \"=\"*80)\n",
    "        print(f\"SUMÁRIO DO MODELO QUÂNTICO (QAOA com k={k_lags_selecionados} Lags)\")\n",
    "        print(\"=\"*80)\n",
    "        print(\"--- Resultado Bruto (Bits Ótimos) ---\")\n",
    "        print(resultado_qaoa)\n",
    "        print(\"\\n--- Coeficientes Finais Reconstruídos ---\")\n",
    "        print(f\" (Valores de {n_bits} bits antes da normalização: {coefs_quanticos})\")\n",
    "        print(f\" (Valores normalizados [0,1]: {coefs_quanticos_norm})\")\n",
    "        print(\"\\nCoeficientes Finais (usados na previsão):\")\n",
    "        for i, name in enumerate(predictors_qaoa): # Usa predictors_qaoa atualizado\n",
    "            print(f\"  beta_{name}: {coefs_quanticos_final[i]:.6f}\")\n",
    "        print(\"=\"*80)\n",
    "\n",
    "    except Exception as e:\n",
    "        print(f\"⚠ Falhou: {e}\")\n",
    "        print(\"→ Usando fallback OLS\")\n",
    "        df_historico['Gini_Quantum'] = df_historico['Gini_OLS']\n",
    "        quantum_success = False\n",
    "\n",
    "\n",
    "print(\"\\n================================================================================\")\n",
    "print(\"✓ PIPELINE COMPLETO\")\n",
    "print(\"================================================================================\")\n"
   ]
  },
  {
   "cell_type": "code",
   "execution_count": 9,
   "id": "c39f6a0d",
   "metadata": {},
   "outputs": [
    {
     "name": "stdout",
     "output_type": "stream",
     "text": [
      "\n",
      "================================================================================\n",
      "MÉTRICAS DE AVALIAÇÃO (vs Gini_Verdadeiro no período histórico, k=1 lags)\n",
      "================================================================================\n",
      "OLS (k=1 Lags)                 | MAE: 0.0348 | RMSE: 0.0372 | R²: -13.2176\n",
      "Markov (k=1 Lags)              | MAE: 0.0169 | RMSE: 0.0205 | R²: -3.3292\n",
      "GAM (k=1 Lags)                 | MAE: 0.0325 | RMSE: 0.0370 | R²: -13.1094\n",
      "Série Temporal (UCM)           | MAE: 0.2947 | RMSE: 0.3374 | R²: -1171.3369\n",
      "Bayesiano (k=1 Lags)           | MAE: 0.0224 | RMSE: 0.0274 | R²: -6.7334\n",
      "Quantum (k=1 Lags)             | MAE: 0.0694 | RMSE: 0.0708 | R²: -50.6513\n"
     ]
    }
   ],
   "source": [
    "\n",
    "# ===========================\n",
    "# 8. MÉTRICAS DE AVALIAÇÃO (Atualizado Labels)\n",
    "# ===========================\n",
    "print(\"\\n\" + \"=\"*80)\n",
    "print(f\"MÉTRICAS DE AVALIAÇÃO (vs Gini_Verdadeiro no período histórico, k={k_lags_selecionados} lags)\")\n",
    "print(\"=\"*80)\n",
    "\n",
    "modelos_avaliados = {\n",
    "    f'OLS (k={k_lags_selecionados} Lags)': 'Gini_OLS',\n",
    "    f'Markov (k={k_lags_selecionados} Lags)': 'Gini_Markov',\n",
    "    f'GAM (k={k_lags_selecionados} Lags)': 'Gini_GAM',\n",
    "    'Série Temporal (UCM)': 'Gini_TimeSeries', # Sem lags exógenos\n",
    "    f'Bayesiano (k={k_lags_selecionados} Lags)': 'Gini_Bayes_Hierarquico',\n",
    "    f'Quantum (k={k_lags_selecionados} Lags)': 'Gini_Quantum'\n",
    "}\n",
    "\n",
    "resultados = []\n",
    "y_verdadeiro_hist = df_historico['Gini_Verdadeiro']\n",
    "\n",
    "for nome, coluna in modelos_avaliados.items():\n",
    "    if coluna in df_historico.columns and not df_historico[coluna].isnull().all():\n",
    "        y_pred_hist = df_historico[coluna]\n",
    "        mae = mean_absolute_error(y_verdadeiro_hist, y_pred_hist)\n",
    "        rmse = np.sqrt(mean_squared_error(y_verdadeiro_hist, y_pred_hist))\n",
    "        r2 = r2_score(y_verdadeiro_hist, y_pred_hist)\n",
    "        resultados.append({'Modelo': nome, 'MAE': mae, 'RMSE': rmse, 'R²': r2})\n",
    "        print(f\"{nome:30s} | MAE: {mae:.4f} | RMSE: {rmse:.4f} | R²: {r2:.4f}\")\n",
    "    else:\n",
    "        print(f\"{nome:30s} | Coluna não encontrada ou vazia. Pulando métricas.\")\n",
    "        resultados.append({'Modelo': nome, 'MAE': np.nan, 'RMSE': np.nan, 'R²': np.nan})\n",
    "\n",
    "\n",
    "df_resultados = pd.DataFrame(resultados)\n",
    "# Atualizar cores/nomes se necessário para consistência\n",
    "cores = {f'OLS (k={k_lags_selecionados} Lags)': '#FF6B6B', f'Markov (k={k_lags_selecionados} Lags)': '#F4A261',\n",
    "         f'GAM (k={k_lags_selecionados} Lags)': '#4ECDC4', 'Série Temporal (UCM)': '#FFE66D',\n",
    "         f'Bayesiano (k={k_lags_selecionados} Lags)': '#95E1D3', f'Quantum (k={k_lags_selecionados} Lags)': '#9D4EDD'}\n",
    "\n"
   ]
  },
  {
   "cell_type": "code",
   "execution_count": 22,
   "id": "1959b53f",
   "metadata": {},
   "outputs": [
    {
     "name": "stdout",
     "output_type": "stream",
     "text": [
      "\n",
      "======================================================================\n",
      "CONFIGURANDO DIRETÓRIO DE SAÍDA (WSL)\n",
      "======================================================================\n",
      "Diretório de saída (WSL): /mnt/c/Users/daves/OneDrive/Pessoal/Acadêmico/Doutorado/Codes\n",
      "Existe: True\n",
      "✓ Diretório é gravável\n",
      "\n",
      "======================================================================\n",
      "GERANDO GRÁFICO INTERATIVO PLOTLY\n",
      "======================================================================\n",
      "\n",
      "Salvando Plotly em: /mnt/c/Users/daves/OneDrive/Pessoal/Acadêmico/Doutorado/Codes/grafico_backcasting_interativo_k1lags.html\n",
      "✓ SUCESSO! Gráfico Plotly salvo\n",
      "  → Arquivo: grafico_backcasting_interativo_k1lags.html\n",
      "  → Tamanho: 4755.0 KB\n",
      "  → Caminho absoluto: /mnt/c/Users/daves/OneDrive/Pessoal/Acadêmico/Doutorado/Codes/grafico_backcasting_interativo_k1lags.html\n",
      "  → Caminho Windows: C:\\Users\\daves\\OneDrive\\Pessoal\\Acadêmico\\Doutorado\\Codes\\grafico_backcasting_interativo_k1lags.html\n"
     ]
    },
    {
     "data": {
      "application/vnd.plotly.v1+json": {
       "config": {
        "plotlyServerURL": "https://plot.ly"
       },
       "data": [
        {
         "hoverinfo": "name+x+y",
         "legendgroup": "Gini",
         "line": {
          "color": "black",
          "dash": "dash",
          "width": 2.5
         },
         "mode": "lines",
         "name": "Gini Verdadeiro",
         "type": "scatter",
         "x": {
          "bdata": "UAdRB1IHUwdUB1UHVgdXB1gHWQdaB1sHXAddB14HXwdgB2EHYgdjB2QHZQdmB2cHaAdpB2oHawdsB20HbgdvB3AHcQdyB3MHdAd1B3YHdwd4B3kHegd7B3wHfQd+B38HgAeBB4IHgweEB4UHhgeHB4gHiQeKB4sHjAeNB44HjweQB5EHkgeTB5QHlQeWB5cHmAeZB5oHmwecB50HngefB6AHoQeiB6MHpAelB6YHpweoB6kHqgerB6wHrQeuB68HsAexB7IHswe0B7UHtge3B7gHuQe6B7sHvAe9B74HvwfAB8EHwgfDB8QHxQfGB8cHyAfJB8oHywfMB80HzgfPB9AH0QfSB9MH1AfVB9YH1wfYB9kH2gfbB9wH3QfeB98H4AfhB+IH4wfkB+UH5gc=",
          "dtype": "i2"
         },
         "y": {
          "bdata": "ZmZmZmZm1j9mZmZmZmbWP97IGEtCFtg/ZmZmZmZm1j9mZmZmZmbWP2ZmZmZmZtY/ZmZmZmZm1j9mZmZmZmbWP2ZmZmZmZtY/ZmZmZmZm1j9mZmZmZmbWP2ZmZmZmZtY/mC8lB6971j8gtnghUfLWP9zQYCBeCtk/ZmZmZmZm1j9mZmZmZmbWP2ZmZmZmZtY/ZmZmZmZm1j9mZmZmZmbWP2AJa546+Ng/ZmZmZmZm1j9mZmZmZmbWP2ZmZmZmZtY/ZmZmZmZm1j/+ffQruNfWP2ZmZmZmZtY/ZmZmZmZm1j9mZmZmZmbWP2ZmZmZmZtY/mtxBHq0v1z9mZmZmZmbWP2ZmZmZmZtY/16cSd6yi1z9mZmZmZmbWP4kHE04+kdY/ZmZmZmZm1j9mZmZmZmbWP2ZmZmZmZtY/ZmZmZmZm1j9mZmZmZmbWP2ZmZmZmZtY/ZmZmZmZm1j+OiPaTAonYP5w3BvuBDNc/ZmZmZmZm1j/exvzUKsrWP2YjZMhFrNY/owNbPKYf1z9mZmZmZmbWP2ZmZmZmZtY/LpiMvFIH2D9mZmZmZmbWP3jzmOKKkNY/ZmZmZmZm1j9mZmZmZmbWP2ZmZmZmZtY/ZmZmZmZm1j+WVC26eZDXPzYZXwjeIdg/CZ6JSYps1j8QhY+XuGLYP1N0/R2Y9tY/KMctmCnn1j88whpeinLXP+WmAPa1S9g/6RpEkc/21z9mZmZmZmbWP5s1640Kf9Y/N8Oq+FvJ1j9mZmZmZmbWP2ZmZmZmZtY/1PnD/I1u1j8I3RdHmAbXPwjh1pDcjdc/ZmZmZmZm1j9mZmZmZmbWP22EP1AyztY/quzVAwqH1j9bNwj6XL3WP1fKaxNos9Y/ZmZmZmZm1j9mZmZmZmbWPwcPim0+wNc/mK0a8CyQ1z9mZmZmZmbWP+RCgbBZQNc/WglaeU1W1z9mZmZmZmbWP2ZmZmZmZtY/ZmZmZmZm1j9mZmZmZmbWP2ZmZmZmZtY/ZmZmZmZm1j9mZmZmZmbWP7BzE9hr49Y/ZmZmZmZm1j9mZmZmZmbWP2ZmZmZmZtY/ZmZmZmZm1j9mZmZmZmbWP2ZmZmZmZtY/CG1eoUxI2D9mZmZmZmbWP2ZmZmZmZtY/Gl24b9CL1j9mZmZmZmbWP2ZmZmZmZtY/ZmZmZmZm1j/vuWdYbrnZP2ZmZmZmZtY/ZmZmZmZm1j9anqEZJtHWP2ZmZmZmZtY/ZmZmZmZm1j9mZmZmZmbWP2ZmZmZmZtY/ZmZmZmZm1j9mZmZmZmbWPz1vthx4rNY/ZmZmZmZm1j9mZmZmZmbWP2ZmZmZmZtY/ZmZmZmZm1j9mZmZmZmbWP2ZmZmZmZtY/ZmZmZmZm1j//EhhxyAPYPym3QZM+mNg/L14C6Nrd1j+zX+6VWjbYPxuOv/LdrNk/PuBEt5IE2D9AHQW/057YP6/ABZhtTNg/dmkCrYed1z8LbhNq1qPYP2w69oLVk9k/YyDOnXL12D/SJiRJk6LYP9TmQFjNstY/bnUujsXE2D+lRB0u2VnXPy/H9L6dNNo/iRTsU3X71z/8EzlQ3GrZP2W5kooeP9g/lcCeqG8U1z+gESsrktfXP2BeRiAZKdc/0GjFG6KY1z8=",
          "dtype": "f8"
         }
        },
        {
         "hoverinfo": "name+x+y",
         "legendgroup": "Gini",
         "marker": {
          "color": "dimgray",
          "opacity": 0.7,
          "size": 8
         },
         "mode": "markers",
         "name": "Observado (1976+)",
         "type": "scatter",
         "x": {
          "bdata": "uAe5B7oHuwe8B70Hvge/B8AHwQfCB8MHxAfFB8YHxwfIB8kHygfLB8wHzQfOB88H0AfRB9IH0wfUB9UH1gfXB9gH2QfaB9sH3AfdB94H3wfgB+EH4gfjB+QH5QfmBw==",
          "dtype": "i2"
         },
         "y": {
          "bdata": "C1MIraEP1j9qvkjUubvWP0f2f3Dxp9Y/0qvGY/ZU1z9C8gywnxTXP9gjfmZd/tk/5MRSqfPn1T9CfjsgpJjVP6fiw86uC9Y/LMEeNVoQ1z8+VsO0l4/VP0JBhJb9Odc/6pCvoaNH1j+k/7I6SDrXPy0GG9mHF9c/8L27iUcK1j+i55NyfHrWP6p8BGGk1tY/HOKne7D01T93+hLlG5LVP3Yrfz+HcdY/YxCCC93N1j8wtmZIyrLUP20JD27a1tc/e51cCCcb2T+oD+YR2a7WP3N+bQvB3Nc/jJmEU2Iy2z+4BFQAQjXXP3DJ7de3Zdg/tJhNeNHT2D8xc/PKWtXWP998vDOnuNk/j4GuPxj+2D9ntUwxGdnZP0RzbvmKQNg/M4IFuko31z9QewhAOe/YP9Vobi+l7dc/rcWMoeTT2T+L8KZ6y+nXP8xVeXFVHto/EDaUe+9Z1z80RLFH6yXWP0b76dLuLdg/bQZ6I5J31j+6B23gAhPYPw==",
          "dtype": "f8"
         }
        },
        {
         "hoverinfo": "name+x+y",
         "legendgroup": "OLS",
         "line": {
          "color": "#FF6B6B",
          "dash": "solid",
          "width": 2.5
         },
         "mode": "lines",
         "name": "OLS (k=1 Lags)",
         "showlegend": true,
         "type": "scatter",
         "x": {
          "bdata": "UAdRB1IHUwdUB1UHVgdXB1gHWQdaB1sHXAddB14HXwdgB2EHYgdjB2QHZQdmB2cHaAdpB2oHawdsB20HbgdvB3AHcQdyB3MHdAd1B3YHdwd4B3kHegd7B3wHfQd+B38HgAeBB4IHgweEB4UHhgeHB4gHiQeKB4sHjAeNB44HjweQB5EHkgeTB5QHlQeWB5cHmAeZB5oHmwecB50HngefB6AHoQeiB6MHpAelB6YHpweoB6kHqgerB6wHrQeuB68HsAexB7IHswe0B7UHtge3Bw==",
          "dtype": "i2"
         },
         "y": {
          "bdata": "eVw2L1r/1D+souqt0vDUP3ItEW4dWNU/Kmicj0UQ1T9ag2EznArVP/CJwJGUvNQ/m4csiKDJ1D+O2/pzWL/UPyKWlVReoNQ/rpE4I/fW1D9yVNMY+uvUP4Oe45XuFtQ/eosXz34M1D9Za0SLYlDUP6jKNcaCatQ/QZdOq5kW1T/5Mg9h2zfUPxijlaCVBtQ/3phdjRmN1D9PeLl2mrHUPxjuTNJUT9Q/G0us7DTE1D9uP+6j7rbUP1qaGzehK9Q/VK2ecN2f1D9dLpGri2rUPxmANmRMlNQ/e2pOAYm+0z8wHsJolnHUP96A0AcmsNQ/JbqDaMiV1D/PqhkXahDVP3nG+//9jdQ/XK/uX90n1D+Y7kqsvV/UP8lG731r0NQ/xcmq3Hb/0z9tif6tcTHUPygHMo03b9Q/IddXtqVI1D84/QYXG2nTP7gsQdY0GNQ/iw+SgqRt1D9xmMxO4CHUP3t+s5GpTtQ/iIX5T41f1D9sy6Nj+EfUP5nZiGGRWNQ/oGETEosg1D+fA6IDk0/UP5GuRC/HEtQ/feVk+mgR1D8lJlNuB4HUPz1q0IZTRdQ/qTJo0WB41D8zZ4OY+5vUP9RUoHmPqNM/rRo8h7iT1D9+mLwwCF7UP1hHE3yN7tM/tMRB8BpD1D9Q0JMkeBzUPwMY0FDlFtQ/cFR1u00H1D8fGduGRP/TP0bir91/jNQ/BS/Xgb1W1D+b0rVFNTfUPxYK57CPQ9Q/Y9eNxLIe1D+216cUI6rTPzRfJRJchNQ/mt17DNgU1D+4Tb9yh1jUPyvSdw140tM/NJRX4DTk0z8C+Jkga3HUP/SBOd2bhdQ/sAZwhgoO1D++G91/OVfUP8KI8bwGSdQ/AzJakNPP1D/IajDBVTHUP7DKNem40dQ/JBZw3fwz1D9ImQwpOhvVPzO45Ag4ldQ/MpQCsLih1D9p3iXdm7LUP2gucnWfDtU/o5ZzSgrs1D8J5b5mEbXUP1COpAsXpNQ/nWAgstY01T9EgXvIxzjVPx2JJt+dtdU/goNyWBUe1T8VzC3uGirVP4VB4hsKctU/7qj4lXuY1T9Pj8wRQm7VPxVYuQH7i9U/eIu8h9+Y1T+iUuZxscLVPw==",
          "dtype": "f8"
         }
        },
        {
         "hoverinfo": "name+x+y",
         "legendgroup": "Markov",
         "line": {
          "color": "#F4A261",
          "dash": "solid",
          "width": 2.5
         },
         "mode": "lines",
         "name": "Markov (k=1 Lags)",
         "showlegend": true,
         "type": "scatter",
         "x": {
          "bdata": "UAdRB1IHUwdUB1UHVgdXB1gHWQdaB1sHXAddB14HXwdgB2EHYgdjB2QHZQdmB2cHaAdpB2oHawdsB20HbgdvB3AHcQdyB3MHdAd1B3YHdwd4B3kHegd7B3wHfQd+B38HgAeBB4IHgweEB4UHhgeHB4gHiQeKB4sHjAeNB44HjweQB5EHkgeTB5QHlQeWB5cHmAeZB5oHmwecB50HngefB6AHoQeiB6MHpAelB6YHpweoB6kHqgerB6wHrQeuB68HsAexB7IHswe0B7UHtge3Bw==",
          "dtype": "i2"
         },
         "y": {
          "bdata": "wn5Y0M0O1D9ewVRkeunTP7SKzbW4Y9Q/u067mhw91T96E/7kyf7UP9KKXVT+A9U/ECElotCv1D9zlAkvHynVP3RHRjn7qdQ/6V4tU7r91D8qlgGmwxjVP3/4LRGuUNU/yqR3XHnK1T88ythx5rbUP8zo7ifeg9U/+jvcI33z1T8kgRv/n4XVPzdWOkdpU9U/aHM6vFVv1T8GbaNiwinVP7mshIJ0pdU/a6ffE1SP1j8ZZUmAlGzVP8yoC5GHetU/JP2MYLE51T+MUT1ImrnVP7eJPIS+FtU/umLx0rM71j/HsSPhGePVP2Ti/g7AjdU/UavfEoye1T8QsA1xFcDVP7i32D6K09U/KYn1/I3D1T+mlxyyKrHWPzCzqVWLH9Y/5K+5IMvb1T9q2JCtM8rVP/Ca8aA/IdY/sAat6Isp1j/A27QpqDrWP1wARLOS2tU/hLnRhOFP1j+oZEsIOWrWPwLd0h/RuNY/fAWYKZMz1j8YudR5x47WP2q5Sz+8Cdc/ZGwsQU0h1z9Sk9CC9JrWP1pZxOMf69Y/mDVHGloV1z9NUAykeRjXPwgBu5g+2dY/Spfg0mYg1z9S7impvlzWP+gYJd+cNNc/+CEwprgx1j8WovN8gsrWP3PgWr2eq9c/TOyUEQPG1z/5RgU9HBvXPwOZt9f6xdc/b2+MkCIC2D/TQDfVj1LYP1rhtCmC2tc/qEAj8ccT2D/a9dFWhqLXP+be0n5gcNc/AgzzrBc11z+BzBDGUP3XPxhWF84m09c/ufIPUJd52D8K7VsnyuvXPx7MVdaTodg/sfQYlmci2D/SvxUbqaHXP4JhAHdT59c/XIOO8To02D9oEpT4vprXPzzVdh6O7tc/TNegEupK2D8EORCcTxzYP6IzcpZ7U9c/+atdjl622D81fpNjKNnXP4xvZEonwNc/vOQEV6fn1z9wQYWcRoHYP8qpRkegctc/yt7wT5I02D/aJp++JJLXP6Ba3nMr+9c/eyCeu5BC1z8Yd/8t6uPXP5sKmli80dY/UBLiuSpm2D8MmmkAjm3XPxbxbb4iaNc/5r+gtIgG2D+cY59fSp/YP7Z4YJ143Nc/nEVO46xi2D9csIFVe+PYPw==",
          "dtype": "f8"
         }
        },
        {
         "hoverinfo": "skip",
         "legendgroup": "Markov",
         "line": {
          "width": 0
         },
         "mode": "lines",
         "showlegend": false,
         "type": "scatter",
         "x": {
          "bdata": "UAdRB1IHUwdUB1UHVgdXB1gHWQdaB1sHXAddB14HXwdgB2EHYgdjB2QHZQdmB2cHaAdpB2oHawdsB20HbgdvB3AHcQdyB3MHdAd1B3YHdwd4B3kHegd7B3wHfQd+B38HgAeBB4IHgweEB4UHhgeHB4gHiQeKB4sHjAeNB44HjweQB5EHkgeTB5QHlQeWB5cHmAeZB5oHmwecB50HngefB6AHoQeiB6MHpAelB6YHpweoB6kHqgerB6wHrQeuB68HsAexB7IHswe0B7UHtge3Bw==",
          "dtype": "i2"
         },
         "y": {
          "bdata": "rtAQ71L61T9KEw2D/9TVP6DchdQ9T9Y/pqBzuaEo1z9mZbYDT+rWP77cFXOD79Y//HLdwFWb1j9e5sFNpBTXP2CZ/leAldY/1LDlcT/p1j8W6LnESATXP2pK5i8zPNc/tvYve/611z8oHJGQa6LWP7g6p0Zjb9c/5o2UQgLf1z8Q09MdJXHXPyKo8mXuPtc/VMXy2tpa1z/yvluBRxXXP6T+PKH5kNc/VvmXMtl62D8EtwGfGVjXP7j6w68MZtc/EE9FfzYl1z94o/VmH6XXP6Lb9KJDAtc/prSp8Tgn2D+yA9z/ns7XP1A0ty1Fedc/PP2XMRGK1z/8AcaPmqvXP6QJkV0Pv9c/FNutGxOv1z+S6dTQr5zYPxwFYnQQC9g/0AFyP1DH1z9WKknMuLXXP9zsqb/EDNg/nFhlBxEV2D+sLW1ILSbYP0hS/NEXxtc/cAuKo2Y72D+UtgMnvlXYP+4uiz5WpNg/aFdQSBgf2D8EC42YTHrYP1YLBF5B9dg/UL7kX9IM2T8+5YiheYbYP0arfAKl1tg/hIf/ON8A2T84osTC/gPZP/RSc7fDxNg/NumY8esL2T8+QOLHQ0jYP9Rq3f0hINk/5HPoxD0d2D8C9KubB7bYP14yE9wjl9k/OD5NMIix2T/kmL1boQbZP+7qb/Z/sdk/WsFEr6ft2T++ku/zFD7aP0YzbUgHxtk/lJLbD03/2T/GR4p1C47ZP9Iwi53lW9k/7l2ry5wg2T9sHsnk1ejZPwSoz+yrvtk/pETIbhxl2j/2PhRGT9fZPwoeDvUYjdo/nEbRtOwN2j++Ec45Lo3ZP26zuJXY0tk/SNVGEMAf2j9UZEwXRIbZPygnLz0T2tk/OClZMW822j/wisi61AfaP46FKrUAP9k/5P0VreOh2j8g0EuCrcTZP3jBHGmsq9k/qDa9dSzT2T9ckz27y2zaP7b7/mUlXtk/tjCpbhcg2j/GeFfdqX3ZP4yslpKw5tk/ZnJW2hUu2T8EybdMb8/ZP4ZcUndBvdg/PGSa2K9R2j/46yEfE1nZPwJDJt2nU9k/0hFZ0w3y2T+ItVd+z4raP6LKGLz9x9k/iJcGAjJO2j9IAjp0AM/aPw==",
          "dtype": "f8"
         }
        },
        {
         "fill": "tonexty",
         "fillcolor": "rgba(244, 162, 97, 0.15)",
         "hoverinfo": "name+x",
         "legendgroup": "Markov",
         "line": {
          "width": 0
         },
         "mode": "lines",
         "name": "Markov (k=1 Lags) (Intervalo 95%)",
         "type": "scatter",
         "x": {
          "bdata": "UAdRB1IHUwdUB1UHVgdXB1gHWQdaB1sHXAddB14HXwdgB2EHYgdjB2QHZQdmB2cHaAdpB2oHawdsB20HbgdvB3AHcQdyB3MHdAd1B3YHdwd4B3kHegd7B3wHfQd+B38HgAeBB4IHgweEB4UHhgeHB4gHiQeKB4sHjAeNB44HjweQB5EHkgeTB5QHlQeWB5cHmAeZB5oHmwecB50HngefB6AHoQeiB6MHpAelB6YHpweoB6kHqgerB6wHrQeuB68HsAexB7IHswe0B7UHtge3Bw==",
          "dtype": "i2"
         },
         "y": {
          "bdata": "1iygsUgj0j9yb5xF9f3RP8g4FZczeNI/0PwCfJdR0z+OwUXGRBPTP+Y4pTV5GNM/JM9sg0vE0j+IQlEQmj3TP4j1jRp2vtI//gx1NDUS0z8+REmHPi3TP5SmdfIoZdM/3lK/PfTe0z9QeCBTYcvSP+CWNglZmNM/DuojBfgH1D84L2PgGprTP0wEgijkZ9M/fCGCndCD0z8aG+tDPT7TP85azGPvudM/gFUn9c6j1D8uE5FhD4HTP+BWU3ICj9M/OKvUQSxO0z+g/4QpFc7TP8w3hGU5K9M/zhA5tC5Q1D/cX2vClPfTP3iQRvA6otM/Zlkn9Aaz0z8kXlVSkNTTP8xlICAF6NM/Pjc93gjY0z+6RWSTpcXUP0Rh8TYGNNQ/+F0BAkbw0z9+htiOrt7TPwRJOYK6NdQ/xLT0yQY+1D/UifwKI0/UP3Cui5QN79M/mGcZZlxk1D+8EpPps37UPxaLGgFMzdQ/kLPfCg5I1D8sZxxbQqPUP35nkyA3HtU/eBp0Isg11T9mQRhkb6/UP24HDMWa/9Q/rOOO+9Qp1T9i/lOF9CzVPxyvAnq57dQ/XkUotOE01T9mnHGKOXHUP/zGbMAXSdU/DNB3hzNG1D8qUDte/d7UP4iOop4ZwNU/YJrc8n3a1T8O9Uwely/VPxhH/7h12tU/hB3UcZ0W1j/o7n62CmfWP26P/Ar97tU/vO5q0kIo1j/uoxk4AbfVP/qMGmDbhNU/Fro6jpJJ1T+WelinyxHWPywEX6+h59U/zqBXMRKO1j8em6MIRQDWPzJ6nbcOttY/xqJgd+I21j/mbV38I7bVP5YPSFjO+9U/cDHW0rVI1j98wNvZOa/VP1CDvv8IA9Y/YIXo82Rf1j8Y51d9yjDWP7bhuXf2Z9U/Dlqlb9nK1j9KLNtEo+3VP6AdrCui1NU/0JJMOCL81T+E78x9wZXWP95Xjigbh9U/3ow4MQ1J1j/u1Oafn6bVP7QIJlWmD9Y/kM7lnAtX1T8sJUcPZfjVP7C44Tk35tQ/ZMApm6V61j8gSLHhCILVPyqftZ+dfNU/+m3olQMb1j+wEedAxbPWP8omqH7z8NU/sPOVxCd31j9wXsk29vfWPw==",
          "dtype": "f8"
         }
        },
        {
         "hoverinfo": "name+x+y",
         "legendgroup": "GAM",
         "line": {
          "color": "#4ECDC4",
          "dash": "solid",
          "width": 2.5
         },
         "mode": "lines",
         "name": "GAM (k=1 Lags)",
         "showlegend": true,
         "type": "scatter",
         "x": {
          "bdata": "UAdRB1IHUwdUB1UHVgdXB1gHWQdaB1sHXAddB14HXwdgB2EHYgdjB2QHZQdmB2cHaAdpB2oHawdsB20HbgdvB3AHcQdyB3MHdAd1B3YHdwd4B3kHegd7B3wHfQd+B38HgAeBB4IHgweEB4UHhgeHB4gHiQeKB4sHjAeNB44HjweQB5EHkgeTB5QHlQeWB5cHmAeZB5oHmwecB50HngefB6AHoQeiB6MHpAelB6YHpweoB6kHqgerB6wHrQeuB68HsAexB7IHswe0B7UHtge3Bw==",
          "dtype": "i2"
         },
         "y": {
          "bdata": "j1s6Utnm2T/IjNxD51LaP1YgBb7Yj9k/sz7LhknS2j/W+ahGUmvZP1S8zlBpVtk/uIHafsa82T+zuZIhrIPZP8/j96Im0Nk/WK0LKtgp2T91g+bMw1/ZP8dgFsiG6Nk/b+cOSiMc2j95FT8cSXTaP6Tx5ceuh9o/BhS1oQX+2T8+5KLM3rjZP84pCr2+Pto/uh69XR1t2T/5hLUKuWzZP7aj2VlS0dk/GlW/syfw2T89NJZbnFLZP0hHv5QevNk/4LSm3Qh42T9h6j4fUSjZP46BN3jqPNo/kRvbHuGq2T/cWr64hPHYPy5O4dtpL9k/udUJahJC2T/uC557AenZP0YOPEsi5dg/0r+4lUhI2T+DFICkiC3aP3cncP6/p9g/ApbrfWfY2T+zTRMcx0bZPybXjnDcHtk/b0Flhu3m2D9ku9PDEjjaP4Sfy/a5XNk/g+tB73+22D82YRKDR/fYP1a03d2TJNo/gsy6yI/Z2T8AmfXGO0LYPy7XTnMq8Ng/DRNiqlXO2D8uO5JR1NDZP5J/O/S1Vdg/jrdaYVhw2D/c54MUNoTZP1qht26hp9g/jMWze7Jf2D9gh+0wk2HYPwNV1w8cqdg/DE6j0flG2D9WhCZxXIbYP/37FjEngtk/yhBiisth2T8dOIYma0bYP/QBU/7GaNk/1tPc+0bp2D9RW3q4LgzYP+YxeACg39g/rNBFfvio2D9Klbfq9ojZP+jLdtQ2xdc/uqWdcate2D8+gdGQ2//YP8PWbsS/Hdc/F0jGbEvs1j/UFB5lb2nXP9hMaT60Vdg/JuTPKDeg2T9eFS2gJxrXPxutk+k1yNY/QGZCN0VU2D+cNWdqNwHYP/J28MnkzNg/2qFP9Qy41j+ORlqXkN3XPx5OYJVXp9c/MOD9PXaF2D/Eq9zHONLYPzBQrvcwa9c/AoFq157D2D9ecEABrhLYP0IMq9DUndc/XGv6tA771j84CT7n8//XP7bnpa1mjdc/b1EAUbzl1z/IsO+kRTzXP+p3jLysnNc/4gXGkSSz1z820kBKs2XXP2Qz4GTHudc/uIfKd8O51j8sk4bag+jVP8L3J1IA+dY//vUlPmOi1j9gdwRhYf7XPw==",
          "dtype": "f8"
         }
        },
        {
         "hoverinfo": "skip",
         "legendgroup": "GAM",
         "line": {
          "width": 0
         },
         "mode": "lines",
         "showlegend": false,
         "type": "scatter",
         "x": {
          "bdata": "UAdRB1IHUwdUB1UHVgdXB1gHWQdaB1sHXAddB14HXwdgB2EHYgdjB2QHZQdmB2cHaAdpB2oHawdsB20HbgdvB3AHcQdyB3MHdAd1B3YHdwd4B3kHegd7B3wHfQd+B38HgAeBB4IHgweEB4UHhgeHB4gHiQeKB4sHjAeNB44HjweQB5EHkgeTB5QHlQeWB5cHmAeZB5oHmwecB50HngefB6AHoQeiB6MHpAelB6YHpweoB6kHqgerB6wHrQeuB68HsAexB7IHswe0B7UHtge3Bw==",
          "dtype": "i2"
         },
         "y": {
          "bdata": "3dI8jJ9U4j/cjJ7sI6TiP/zufPja1eE/opMPGJ434j+zqyK61FbhP8Nv6VhQXeE/u4/h6UPI4T8aD8iVjlDhPxqlb9024+E/N/KbgipJ4T9Ntkt7YULhP4kUhjhbmeE/TSZ6Y4dc4T/Fvrz9HT/iPxI779uGwuE/uFBIyqh24T+0Jk9cpkzhP5z//LnxwOE/PiyzkEUe4T8dTJdyu0nhPxf6FccIOuE/TqIg/CUP4T8EUsjngAjhP6eYKTssXOE/15scEktH4T9kHN7LVdTgP/426lsJ5eE/BNtJW4T34D/5dpXJEpvgPx4NTn7m4OA/pyPUGlfk4D8/Rm5EpC/hP/MAJILJluA/dtEjbPn44D96y4MK1vLgP/XyXYFcMOA/3Q6KL49B4T+AbURoZu3gP5MGbQ+AguA/pF8fOwdy4D8bd5UEt2LhPxnHLUnP9OA/FXpcHkkx4D+q9UWSNVrgP9lKTn4SFuE/TsfjOl0A4T8bDPXMm9jfP/KGDBPQ498/j4P/E+us3z/bQuV/hrzgPxx4JWAckt8/uwC2FCBr3z81M52ha27gP0SJLhjIiN8/CbwiY9MN3z8q/dxl67ffP6T18CjT2t8/MmHFfIAQ4D+w4Y7+fX3fP7neuLr0PuA/nxTNPi8O4D+El8XnxzjfP5PDmb0dN+A/PBahUm8B3z8yRPvaoCDePzxrr9Qyid4/sFZ5Mpkw3z9705kSDh3gP9RrSVK78d0/iYowq1zz3j8i5rCQoCnfP6p3qKhC0tw/8TGiKKGo3D9i0j+aYefcPwRG2Vx9ON4/aLA1+7Sl3z8aCIdhaRDdP+wSI8XAcNw/ZtP+Hm7T3T9pP2CvGJfdPyQ+B4bdyd0/v5U7x1rS2z/vXpLee7XcP5R1SV7Uqtw/nwDvhPLj3T/86K2LsUHdP5zRldysMdw/aGMdxQCc3T9a4eIXZJ3cPxobIOC/3Ns/MBPPoqHu2j8ZPIecfGTcP4nDOHHgyds/CkIYybSV2z+HcHrmesnaP7Y1FyPpWds/KlHcgCIj2z+lXiSdpUvbP1dxJcTV3No/h0xc7Kyr2T9BE2clkSLZP2E5JX+G4tk/xCR6ZMRs2T/aM4WaqQLbPw==",
          "dtype": "f8"
         }
        },
        {
         "fill": "tonexty",
         "fillcolor": "rgba(78, 205, 196, 0.15)",
         "hoverinfo": "name+x",
         "legendgroup": "GAM",
         "line": {
          "width": 0
         },
         "mode": "lines",
         "name": "GAM (k=1 Lags) (Intervalo 95%)",
         "type": "scatter",
         "x": {
          "bdata": "UAdRB1IHUwdUB1UHVgdXB1gHWQdaB1sHXAddB14HXwdgB2EHYgdjB2QHZQdmB2cHaAdpB2oHawdsB20HbgdvB3AHcQdyB3MHdAd1B3YHdwd4B3kHegd7B3wHfQd+B38HgAeBB4IHgweEB4UHhgeHB4gHiQeKB4sHjAeNB44HjweQB5EHkgeTB5QHlQeWB5cHmAeZB5oHmwecB50HngefB6AHoQeiB6MHpAelB6YHpweoB6kHqgerB6wHrQeuB68HsAexB7IHswe0B7UHtge3Bw==",
          "dtype": "i2"
         },
         "y": {
          "bdata": "xyL2F+dIzj+v//dcDbvOP2fFIBb3584/IlZ33VY10T9GnAwZ+yjQP0Myld9j5M8/88fjUwrSzz8yVZUXO2bQP9b6IBa/s88/hey+nbaCzz9QmjWjxDrQP3yYIB9XntA/RIIpzTd/0T9orQQ9VmrQPyRt7ddPitE/nIbZrrkO0T8Ve6fgcNjQP2NUGgaa+9A/+OQTmq+d0D+4cTww+0XQPz5ThyWTLtE/mGU9bwPC0T9yxJvnNpTQP0JdK7Pkv9A/EjIUl3th0D/6m8Gm9qfQPx+VmjjCr9A/GoEih7lm0T/Gx1He46zQPyCCJrsGndA/JGRrnna70D9ei19uunLRP6YaMJKxnNA/uNwpU56e0D8RkvgzZXXSPwRpJPrG7tA/Sg7DnLAt0T9mwJ1nwbLQPyehQ8K4ONE/lsOLlszp0D+SiHx+t6rRP9awO1vVz9A/3OLKoW0K0T8X15jhIzrRP/rSHr8CHdI/aQquG2Wy0T/lJfbA26vQP2onkdOE/NE/i6LEQMDv0T+m8FmjmyjSPwiHUYhPGdE/YW7/rZB10T9Oac3llCvSP3C5QMV6xtE/D89ElJGx0T+WEf77OgvRP2K0vfZkd9E/tdm7qfJs0D/8Jr7jOo/RP4g6vOxkhtI/Vfgplzin0j+22EZlDlTRP8J8coFSY9I/cJEYpR7R0j9wcvmVvPfRP5D4QCwNNtM/qEoSylch0j+egzuw0dfSP/wrpFaymNE/68AKOPrJ0T9aHPKQFtbSP9w1NeA8adE/PV7qsPUv0T9GV/wvfevRP6xT+R/rctI/5BdqVrma0z+iItPe5SPRP0pHBA6rH9E/GvmFTxzV0j/PK24lVmvSP8Cv2Q3sz9M/9a1jI7+d0T8tLiJQpQXTP6gmd8zao9I/wb8M9/km0z+MbgsEwGLUP8TOxhK1pNI/nJ636Tzr0z9i/53q94fTP2r9NcHpXtM/iMMlx3sH0z9X1vQxa5vTP+MLE+rsUNM/1GDo2MM11D8J8WRjEK/TPx66AVZw39M/mrqvoiZD1D/HRV33wH/TP3H1mgW5ltQ/6cI4A9rH0z8XE6aPdq7SPyO2KiV6D9Q/OMfRFwLY0z/muoMnGfrUPw==",
          "dtype": "f8"
         }
        },
        {
         "hoverinfo": "name+x+y",
         "legendgroup": "TS",
         "line": {
          "color": "#FFE66D",
          "dash": "solid",
          "width": 2.5
         },
         "mode": "lines",
         "name": "Série Temporal (UCM)",
         "showlegend": true,
         "type": "scatter",
         "x": {
          "bdata": "UAdRB1IHUwdUB1UHVgdXB1gHWQdaB1sHXAddB14HXwdgB2EHYgdjB2QHZQdmB2cHaAdpB2oHawdsB20HbgdvB3AHcQdyB3MHdAd1B3YHdwd4B3kHegd7B3wHfQd+B38HgAeBB4IHgweEB4UHhgeHB4gHiQeKB4sHjAeNB44HjweQB5EHkgeTB5QHlQeWB5cHmAeZB5oHmwecB50HngefB6AHoQeiB6MHpAelB6YHpweoB6kHqgerB6wHrQeuB68HsAexB7IHswe0B7UHtge3Bw==",
          "dtype": "i2"
         },
         "y": {
          "bdata": "MCCMidtSzL+O8vIiVp/Lv+zEWbzQ68q/SpfAVUs4yr+oaSfvxYTJvwY8johA0ci/ZA71IbsdyL/C4Fu7NWrHvyCzwlSwtsa/foUp7ioDxr/cV5CHpU/Fvzoq9yAgnMS/mPxduprow7/2zsRTFTXDv1ShK+2PgcK/snOShgrOwb8QRvkfhRrBv24YYLn/ZsC/l9WNpfRmv79SelvY6f+9vw0fKQvfmLy/yMP2PdQxu7+DaMRwycq5vz4NkqO+Y7i/+bFf1rP8tr+0Vi0JqZW1v2/7+jueLrS/KqDIbpPHsr/lRJahiGCxv0DTx6j78q+/thxjDuYkrb8sZv5z0Faqv6Kvmdm6iKe/GPk0P6W6pL+OQtCkj+yhvwkY1xT0PJ6/9qoN4MigmL/jPUSrnQSTv6Ch9ezk0Iq/847FBh0xf79MtT9n4IBhv06zCz95YGs/+sZVuXQQgj8goegiy0iNP6O9PcaQQJQ/tioH+7vcmT/Jl9Av53ifP24CTTKJiqI/+LixzJ5YpT+CbxZntCaoPwwmewHK9Ko/ltzfm9/CrT+QSSKbekiwP9WkVGiFr7E/GgCHNZAWsz9fW7kCm320P6S268+l5LU/6REenbBLtz8ubVBqu7K4P3PIgjfGGbo/uCO1BNGAuz/9fufR2+e8P0LaGZ/mTr4/hzVMbPG1vz9mSL8cfo7APwh2WIMDQsE/qqPx6Yj1wT9M0YpQDqnCP+7+I7eTXMM/kCy9HRkQxD8yWlaEnsPEP9SH7+ojd8U/drWIUakqxj8Y4yG4Lt7GP7oQux60kcc/XD5UhTlFyD/+a+3rvvjIP6CZhlJErMk/Qscfuclfyj/k9LgfTxPLP4YiUobUxss/KFDr7Fl6zD/KfYRT3y3NP2yrHbpk4c0/Dtm2IOqUzj+wBlCHb0jPP1I06e30+88/+jBBKr1X0D/Lx43df7HQP5xe2pBCC9E/bfUmRAVl0T8+jHP3x77RPw8jwKqKGNI/4LkMXk1y0j+xUFkREMzSP4LnpcTSJdM/U37yd5V/0z8kFT8rWNnTP/Wri94aM9Q/xkLYkd2M1D+X2SRFoObUP2hwcfhiQNU/OQe+qyWa1T8Kngpf6PPVPw==",
          "dtype": "f8"
         }
        },
        {
         "hoverinfo": "skip",
         "legendgroup": "TS",
         "line": {
          "width": 0
         },
         "mode": "lines",
         "showlegend": false,
         "type": "scatter",
         "x": {
          "bdata": "UAdRB1IHUwdUB1UHVgdXB1gHWQdaB1sHXAddB14HXwdgB2EHYgdjB2QHZQdmB2cHaAdpB2oHawdsB20HbgdvB3AHcQdyB3MHdAd1B3YHdwd4B3kHegd7B3wHfQd+B38HgAeBB4IHgweEB4UHhgeHB4gHiQeKB4sHjAeNB44HjweQB5EHkgeTB5QHlQeWB5cHmAeZB5oHmwecB50HngefB6AHoQeiB6MHpAelB6YHpweoB6kHqgerB6wHrQeuB68HsAexB7IHswe0B7UHtge3Bw==",
          "dtype": "i2"
         },
         "y": {
          "bdata": "pvLiY7jpJ0AGZ1JTb5QnQOfyjHuRPydARIJeYB/rJkDm9H2HGZcmQGgmmXiAQyZA+mBhvVTwJUDVP5jhlp0lQFYGHXNHSyVAO3H6AWf5JECRB3Ug9qckQG/xGWP1ViRAzVrOYGUGJEAkad+yRrYjQBHLEvWZZiNAZum3xV8XI0DXwbnFmMgiQIpzsZhFeiJA1Ib55GYsIkB9+cFT/d4hQOkZJZEJkiFA7zs9TIxFIUABUzs3hvkgQNR9fgf4rSBA55CsdeJiIEDBrcs9RhggQPXruT5InB9AVNTwuvkIH0BzC9R9onYeQFpUoBxE5R1A7Np2NOBUHUD7wJ9qeMUcQEjJz2wONxxAJ1Fx8aOpG0BezfC3Oh0bQNMCDYnUkRpADjgrN3MHGkBloa+eGH4ZQBBPWqbG9RhAFeqoP39uGEB0kz1nROgXQBNASyUYYxdAjPMHjvzeFkCuRCXC81sWQOWfT+//2RVARsa0UCNZFUCIE5IvYNkUQC8iy+O4WhRAfXOJ1C/dE0DL0OV4x2ATQMgtnFiC5RJAHefKDGNrEkCNT75AbPIRQLuWybKgehFAUDEuNQMEEUBtChOvlo4QQIzqjB1eGhBAzVJzKblOD0AI39+BKmsOQAwDC9AWig1A7Jlc1YSrDEB6ae2Le88LQHbZtykC9gpA0yMLJCAfCkDRMkgz3UoJQJRf8FZBeQhAfmwP2lSqB0AucwtYIN4GQLkY58GsFAZAtEEEZANOBUBgw3fsLYoEQGxFAXI2yQNAfMu9eycLA0DeUa8JDFACQCG7OJ7vlwFANzezSN7iAEB7nkmx5DAAQK21nkwgBP8/S+SnVt2s/T/Kp4UUHlz8P1Zq480BEvs/D+Yvq6nO+T/DSJLpOJL4P1IubhfVXPc/YCxwW6Yu9j/5a7fI1wf1P36+h8OX6PM/yoIfexjR8j8U1QJ/kMHxPzrNkng7uvA/NqQoK7Z27z9XnlRscIrtP6AZPvRIsOs/ibRSsfjo6T90pJsPVDXoPy6xHkxTluY/Ts2L2B4N5T/qOm6WIpvjP+Id9R4tQuI/QhErOqUE4T/yEe5Q08vfP/LZsHUD1t0/VENss6s33D/wmDygcQnbPw==",
          "dtype": "f8"
         }
        },
        {
         "fill": "tonexty",
         "fillcolor": "rgba(255, 230, 109, 0.15)",
         "hoverinfo": "name+x",
         "legendgroup": "TS",
         "line": {
          "width": 0
         },
         "mode": "lines",
         "name": "Série Temporal (UCM) (Intervalo 95%)",
         "type": "scatter",
         "x": {
          "bdata": "UAdRB1IHUwdUB1UHVgdXB1gHWQdaB1sHXAddB14HXwdgB2EHYgdjB2QHZQdmB2cHaAdpB2oHawdsB20HbgdvB3AHcQdyB3MHdAd1B3YHdwd4B3kHegd7B3wHfQd+B38HgAeBB4IHgweEB4UHhgeHB4gHiQeKB4sHjAeNB44HjweQB5EHkgeTB5QHlQeWB5cHmAeZB5oHmwecB50HngefB6AHoQeiB6MHpAelB6YHpweoB6kHqgerB6wHrQeuB68HsAexB7IHswe0B7UHtge3Bw==",
          "dtype": "i2"
         },
         "y": {
          "bdata": "qFMvQE/MKMCa/mkEanEowA/BbwHwFijA/oYMu+G8J8A0MPe2P2MnwEiY3XwKCifAbglxlkKxJsDbHnOP6FgmwPAbw/X8ACbAZ71rWYCpJcBPirFMc1IlwMGqIWTW+yTAsUqhNqqlJMCcj31d708kwBsofHSm+iPABH3sGdClI8AHjLnubFEjwE50fJZ9/SLAKr6PtwKqIsBnZyP7/FYiwGW+UQ1tBCLA/xY1nVOyIcCjZP5csWAhwAjGDAKHDyHArw8GRdW+IMAbY/DhnG4gwOjhTJjeHiDAVhlnVjafH8CbveDCpgEfwKhzQwsQZR7AXmewzHPJHcCTum+s0y4dwAYwNlgxlRzACyVuho78G8BoDoT27GQbwAOxNnFOzhrAZFPryLQ4GsDhKQbaIaQZwLJER4uXEBnA3Uwszhd+GMBiY1efpOwXwCd9+wZAXBfAxp1OGezMFsAMXAL3qj4WwGkkw81+sRXA8Le+2GklFcBYcjJhbpoUwCXuAb+OEBTAmaxWWc2HE8ANd0mnLAATwDBBljCveRLAq2dbjlf0EcBBPeVrKHARwJXxhock7RDAUPmBs05rEMAlf/qtU9UPwK0ZG95x1g7Ar3GhH/7ZDcA22DrL/t8MwITWkmx66AvAsEcRxXfzCsCK8c7O/QAKwNI7xr8TEQnAe2BGDcEjCMDFSbBvDTkHwNJQheYAUQbACDjRvKNrBcAEGfqN/ogEwNuYAksaqQPAIpxMQADMAsAa+OwbuvEBwHJUo/RRGgHAzrSMUdJFAMD1KlZljOj+vxOywjRyS/2/2F4RMG60+7/24ZenmSP6v0UP/TcPmfi/e/Jf6OoU97+QapdMSpf1v7ThTqxMIPS/BRL1LxOw8r9RKbEUwUbxv+2GzdH3yO+/OOyEptcS7b+a1MbNd2vqv9LiGhA10+e/mtT9y3NK5b9c4ncgodHiv9k7S2A0aeC/kV0DzmEj3L8yJMLpUJfXvyHt+5J8L9O/pOoXTa3azb8KTwn5D6XFv2RNxjsEhLu/sO+UCZbYqL8AHW1oyhp/PzDhaPnbDq8/IoxpvcJBvD95Qrdy2gLEP70NZPaEVck/PZYfSD/5zT8ko9gdX97QPw==",
          "dtype": "f8"
         }
        },
        {
         "hoverinfo": "name+x+y",
         "legendgroup": "Bayes",
         "line": {
          "color": "#95E1D3",
          "dash": "solid",
          "width": 2.5
         },
         "mode": "lines",
         "name": "Bayesiano (k=1 Lags)",
         "showlegend": true,
         "type": "scatter",
         "x": {
          "bdata": "UAdRB1IHUwdUB1UHVgdXB1gHWQdaB1sHXAddB14HXwdgB2EHYgdjB2QHZQdmB2cHaAdpB2oHawdsB20HbgdvB3AHcQdyB3MHdAd1B3YHdwd4B3kHegd7B3wHfQd+B38HgAeBB4IHgweEB4UHhgeHB4gHiQeKB4sHjAeNB44HjweQB5EHkgeTB5QHlQeWB5cHmAeZB5oHmwecB50HngefB6AHoQeiB6MHpAelB6YHpweoB6kHqgerB6wHrQeuB68HsAexB7IHswe0B7UHtge3Bw==",
          "dtype": "i2"
         },
         "y": {
          "bdata": "/ZntZomj2j91xAjsO2HaP9lqoiaAi9o/gDMFipqw2T+Rw8iMlQTaP0h9KQNvBNo/JVizGEbw2T8Y4eEEbKXZP29T8eHqy9k/XidtybL/2T/DXw8n1K/ZP/yDNcRG/dg/+ii4KZFa2D/OCowAGRnZP7kLgcQDyNg/TP9Wx2e+2D+gsjEZ5rjYPw3fXj0qadg/OyzzaWr12D9iVcjThinZPznu9sNcW9g/iSLysO391z9u7YFF8d/YP48ERt0Ibdg/kTQMQ0zW2D+e0kQfv5XYP+zADu9FvNg/JZhAI4uZ1z+bQwqZCnrYP6O9ZSYuiNg/cyOpwwle2D84cv+57H3YPxO2lFOYYdg/dKx1hYYN2D/jNPU393XXPxk+zVdlKtg/O1XIqrqQ1z922XtxQtbXP14U0Nqantc/2eKbsjq51z/+pL+4ZoPWPzqPj+RIhdc/C+J03vCY1z/NzNU4sD7XP43MAenE0tY/uGsbhplV1z+rSeMLBJDXPzH6lo3x/NY/kWxgFbTk1j+2nAB9YNzWP6UMIsOt+9Y/vmx1uDS01j/hCPa43MTWP67P+VzLudY/5bOOFKjH1j+JFluSskjXP+9uDtzZMtY/JuS1xBRV1z+9k8QqMpbWP1ZUPcZz3tU//gnNQ8HP1T+9ZX2AwlXWPz+OLJFgnNU/WQFLDbKZ1T+I3oOjtNTVP1mXa6nHKNY/GEZ6trLM1T8BaFmejZzVP+1tsnEFPtY/PGqG5NoG1j+4mJc2KTrVP+WJ8dkEPNY/tOdH0i+s1T/O4N+YqfzVPypJvyHkE9U/k+wOlvvn1D8Uep35kULWPy/LLZM0N9Y/vkUMuQ1M1T8n5uDuY8HVP1c5+3WcOtU/S5wRxxIg1j/0LXheSmnVPwFPkLtFH9Y/AUAVkaEF1T9I9Umnh7XVP8ORT2fm6tU/Ryi2qMps1T/luBAZvWDVP866hnkE9dU/cRE9WUCu1T/60ovPx3zVP7Sonio9cdU/av8AIroh1j9uQ6j9vM/VP3WVttlUuNY/v7GjlkCQ1T+znGiID0bWP/RmRn0QFNY/gMjy5yQU1j9RuvJ0LQvWPx+Y3XTYFdY/U20fV4Xb1T+eh8qlXzLVPw==",
          "dtype": "f8"
         }
        },
        {
         "hoverinfo": "skip",
         "legendgroup": "Bayes",
         "line": {
          "width": 0
         },
         "mode": "lines",
         "showlegend": false,
         "type": "scatter",
         "x": {
          "bdata": "UAdRB1IHUwdUB1UHVgdXB1gHWQdaB1sHXAddB14HXwdgB2EHYgdjB2QHZQdmB2cHaAdpB2oHawdsB20HbgdvB3AHcQdyB3MHdAd1B3YHdwd4B3kHegd7B3wHfQd+B38HgAeBB4IHgweEB4UHhgeHB4gHiQeKB4sHjAeNB44HjweQB5EHkgeTB5QHlQeWB5cHmAeZB5oHmwecB50HngefB6AHoQeiB6MHpAelB6YHpweoB6kHqgerB6wHrQeuB68HsAexB7IHswe0B7UHtge3Bw==",
          "dtype": "i2"
         },
         "y": {
          "bdata": "Ih1zlLqu4j8aIvJy/KPiP7Fcj4jpS+I/kscpIlfX4T+G7vSVLDbiP7noNCO9J+I/y65KymNH4j86TiSf2BPiP3R0cpSc5uE/F84UCHgz4j9jX65mKdHhP8yCW07unOE/iG2bTnyR4T8O4khoMPfhP9UfXrlBmuE/e+oXxIqb4T8ZtatLXafhP51wyS2KuOE/Kv6nwQqL4T8lzaShRJfhPxH5znBQY+E/ldrTTHrp4D9YD5hx0qThP+yDpOskMeE/hyvjiWp84T+vjLTbojzhP9InMvTOJ+E/idMOU/kW4T+QxqDUnRDhP+L9344e+uA/TFCuJXMQ4T/+XVIGSCDhP+PEJHnDEuE/1Ae24BHc4D98COCI7mTgP620CrElvuA/pGpkT6gC4T9VsYOEmqDgPwewqe5Fg+A/viToDW6i4D9L+Mu17hngP5ZfNIz6hOA/Ou8Dg/dN4D9jFx/D6gzgPyRYIMXzxt8/wh/fScBM4D+exRCL5D7gPyLjyKMEtd8/XQvHbiNl3z/pJCpg1S3gPxq1vHjw/t8/ExHTYcsM3z/vZWWBo4jfP2yCIkstht8/Mdm41gFv3z+Z8slstOTfPzvcMl+Z+t4/D43ff+Di3z+6u2b8SCjfP2NkljUTT94/1M4yvgZg3j+KUN4NCNfeP7OvEnvJlN0/dwMUAtX93T+XBcANn9bdP4Jj+wdttd0/RrbRgLMt3T/OsAzy0ofdPySohvG/6N0/yNi2mAqQ3T/o8MqP5ercP5jOqxoMMd4/TOTr1Obz3D8WeZqphBzdPxaLbzZwN9w/vk+Jocai3D8DQoDdXeDcP5awqHLQsNw/K2qgPPXt2z9lV6lc7AXcPwYAXhEF1Ns/NsMkRo5S3D+1In3Egk/bPwYH0o0rxds/yA+Y3Swx2z+iyjcAXlnbP6DAqJDYa9s/ghzlzM0T2z/b2IaCWbjaP1AbT+XQ+to/zKOQbluE2j/8s/2YP2faPwGZHmJ9/dk/1LbPlUJL2j9XAVTP/DDaPxWKkYa5wto/pU45vaKX2T+qPrbZMyDaPxDlv4fmTdk/3qzq+usd2T/AnRZ0V+zYP+GlLIUuctg/KtkC0ogn2D8kLYQH+6HXPw==",
          "dtype": "f8"
         }
        },
        {
         "fill": "tonexty",
         "fillcolor": "rgba(149, 225, 211, 0.15)",
         "hoverinfo": "name+x",
         "legendgroup": "Bayes",
         "line": {
          "width": 0
         },
         "mode": "lines",
         "name": "Bayesiano (k=1 Lags) (Intervalo 95%)",
         "type": "scatter",
         "x": {
          "bdata": "UAdRB1IHUwdUB1UHVgdXB1gHWQdaB1sHXAddB14HXwdgB2EHYgdjB2QHZQdmB2cHaAdpB2oHawdsB20HbgdvB3AHcQdyB3MHdAd1B3YHdwd4B3kHegd7B3wHfQd+B38HgAeBB4IHgweEB4UHhgeHB4gHiQeKB4sHjAeNB44HjweQB5EHkgeTB5QHlQeWB5cHmAeZB5oHmwecB50HngefB6AHoQeiB6MHpAelB6YHpweoB6kHqgerB6wHrQeuB68HsAexB7IHswe0B7UHtge3Bw==",
          "dtype": "i2"
         },
         "y": {
          "bdata": "E0wDT+8t0T9R5MnGEN7QPzNIHfI3v9A/WSvMzNAK0D/cWj2cJeDQP/pfgd9nEdE/HsAJHdHq0D/CNtdaGMPQP7wM69rMM9A/VBv7MkAz0T8S25UpioDQP0PqjmA9WM8/nogASIxzzj+oWUSwzBHQP5AbtdPlys8/mMrzg2E/0D+yVH/D2xrQP/ZHjVZvW88/b29947Ia0D/f4wuSshPQP9P5NNm5hM4/gBhXm1QCzj8YQVszU3DQP7b0bPHzUs4/fyAPIprRzz8YLXIwPh7PP5aiCN96h84/s2Q61EPVzT+979UJin7PPyADqjrbsc4/EwPmyDH6zj/J60iu3bHPPzNglmHsG9A/lk/4Kt5Qzz8+VuweoUPNP4auY2wWpc4/d/oUmx5uzj9I7U7BdGDNPzA2g+3Rqsw/rpYgfbo5zj/shF8/K5jJP5mCJDQqv80/CGaTKHlxzT+gGBPxNfDLP+YavwJIMMw/anDRyQDHzT+uWyfxjhHPPybKDfISKs0/OukVSvc2zT8QNe15UDXOP0r2vynPdc4/P1Fzgg0azD9mjuLv4UPOPz4NhbPR4s0/nv1CYmCrzT9ZZTXpB27PP3ZZXalZEM0/KwYywhUezz+vMoLHM0TNPxZgTsXwAMw/N6F66y8mzD9L5tyzS4fNP6jJMH4pp8o/BPbS9Pfnyz/la4vRuRnNP66OY4kp3s0/BEgfdwSlyz/vPqa0iwvMP/jilLxcTM4/BOiPiJ8gzT8ZzPdEnM3LPwxkc3w9mc8/L3kmv7QrzT/ldXjN26HOP0K6bBnhTMs/moPKBAERzD/yKcvxydzOP9SJsCTVH88/B/TDsWdnzT9h/NPU9ErOPwKXyiIpvs0/+Lj38Bcw0D8J9SnoRQvPP12XlsD/IdA//v/cp1gMzz92W3+wvy/QP38uF1wpvdA/PHdn41AK0D9MSLnL1TfQP8psOUYl3dA/gkJWDDjH0D+uUPDSqmPQPw1LR31intA/8ZOD67P90T86pVxknbjRP/U6WbeZK9M/MFK4d3cH0j+va5eMY+rSP/Nf/GuRytI/Kv47whTo0j88YeJDLxLTP0/vRhr+WdM/dTGBISKV0z/oQrDhUbvSPw==",
          "dtype": "f8"
         }
        },
        {
         "hoverinfo": "name+x+y",
         "legendgroup": "Quantum",
         "line": {
          "color": "#9D4EDD",
          "dash": "dashdot",
          "width": 2.5
         },
         "mode": "lines",
         "name": "Quantum (k=1 Lags) (QAOA)",
         "showlegend": true,
         "type": "scatter",
         "x": {
          "bdata": "UAdRB1IHUwdUB1UHVgdXB1gHWQdaB1sHXAddB14HXwdgB2EHYgdjB2QHZQdmB2cHaAdpB2oHawdsB20HbgdvB3AHcQdyB3MHdAd1B3YHdwd4B3kHegd7B3wHfQd+B38HgAeBB4IHgweEB4UHhgeHB4gHiQeKB4sHjAeNB44HjweQB5EHkgeTB5QHlQeWB5cHmAeZB5oHmwecB50HngefB6AHoQeiB6MHpAelB6YHpweoB6kHqgerB6wHrQeuB68HsAexB7IHswe0B7UHtge3Bw==",
          "dtype": "i2"
         },
         "y": {
          "bdata": "ImJM1Mj72z+d0I8NfRHcPx4Xb2Dh39s/vRov+PWP2z8r8hT01svbP53O9fT9y9s/AIJX0Prk2z86GRrLX87bP5jH8XW86ts/6QrUc5LE2z/CO0tejMjbP9ZakXuv4ds/4CzuEavb2z+lSE9bVP7bPw2GFanNvts/wJYq3OZL2z9FHw+/b9LbP/AopXhj79s/Ol6USybF2z+XELRDfMvbP+d+G2410ds/vTYCMX882z9rL1GwSr/bPyfWqTrf1Ns/1toJpTrM2z+ZkkegkbPbP6ausQSpxts/LnIyst7A2z9gUR/E5qXbP2TVa8RQtts/AGJQIoW42z+Ch0kwH4XbP7HW5h9opNs/ciPFWKy62z8zWwhCTWLbP/L9RPSdjts/a7a68eG/2z9GppW7KrnbP5XAC/OWpds/Qi7K4AGe2z+RynML89rbPxJ97z7eu9s/ZALDjiqQ2z9vPWSCz5rbP+dA5dfpO9s/AeK9YvSH2z8xNVD103jbP4gDmiYRYNs/lgbwVihW2z+eZ2BlrHXbP9HldKuPc9s/OKP5t7Jy2z9ajkT9Gi3bP2ybGZQ2aNs/SqgCEtRZ2z/xeBvFvmrbP+GanZZ7cds/gj2//LyA2z9/Oen+NW3bPzhLP65yM9s/xlsqoQwU2z9Ll6gVIWfbPxctIP38Ets/hkjh7+Qg2z/W1Ae2QBHbPyXverE+1No/kKK4Bofq2j93UMPZ/gnbPx6yXqAYI9s/qXSh2Y072z9sEyAxLQTbP6Br/2DQDNs/tVO7meAM2z85zVMiqO/aP/EsdykQ7do/1CaDQoXd2j91h3ZvOP3aP1YRQrRv7to/pKX+CUvP2j8SXEPnUufaP9pgJhAFrdo/FQvWdYS52j+//6If8Y3aPwqrt7Bqt9o/h+RL+UNy2j98IZCQpVraP/+pPfINgNo/fAZ+liF42j8OWWqjxljaP3xf6qP0d9o/lowArXZg2j8NVyR8f3zaPxWry/xrYto/DgdjZksh2j/luY8MBTraP9zHHq0UFdo/lO89jWDw2T8/IEC6MfvZP411T7uw7Nk/utdxysns2T/mA2sMZ9/ZP5AERMGN1Nk/weewpRau2T9mROY0KFnZPw==",
          "dtype": "f8"
         }
        }
       ],
       "layout": {
        "annotations": [
         {
          "showarrow": false,
          "text": "Início dos dados modernos",
          "x": 1976,
          "xanchor": "right",
          "xref": "x",
          "y": 1,
          "yanchor": "top",
          "yref": "y domain"
         }
        ],
        "height": 700,
        "hovermode": "x unified",
        "legend": {
         "bgcolor": "rgba(255,255,255,0.7)",
         "bordercolor": "lightgray",
         "borderwidth": 1,
         "font": {
          "size": 9
         },
         "orientation": "h",
         "x": 0.5,
         "xanchor": "center",
         "y": -0.2,
         "yanchor": "top"
        },
        "margin": {
         "b": 120,
         "l": 40,
         "r": 40,
         "t": 80
        },
        "shapes": [
         {
          "line": {
           "color": "gray",
           "dash": "dot",
           "width": 2
          },
          "type": "line",
          "x0": 1976,
          "x1": 1976,
          "xref": "x",
          "y0": 0,
          "y1": 1,
          "yref": "y domain"
         }
        ],
        "template": {
         "data": {
          "bar": [
           {
            "error_x": {
             "color": "#2a3f5f"
            },
            "error_y": {
             "color": "#2a3f5f"
            },
            "marker": {
             "line": {
              "color": "white",
              "width": 0.5
             },
             "pattern": {
              "fillmode": "overlay",
              "size": 10,
              "solidity": 0.2
             }
            },
            "type": "bar"
           }
          ],
          "barpolar": [
           {
            "marker": {
             "line": {
              "color": "white",
              "width": 0.5
             },
             "pattern": {
              "fillmode": "overlay",
              "size": 10,
              "solidity": 0.2
             }
            },
            "type": "barpolar"
           }
          ],
          "carpet": [
           {
            "aaxis": {
             "endlinecolor": "#2a3f5f",
             "gridcolor": "#C8D4E3",
             "linecolor": "#C8D4E3",
             "minorgridcolor": "#C8D4E3",
             "startlinecolor": "#2a3f5f"
            },
            "baxis": {
             "endlinecolor": "#2a3f5f",
             "gridcolor": "#C8D4E3",
             "linecolor": "#C8D4E3",
             "minorgridcolor": "#C8D4E3",
             "startlinecolor": "#2a3f5f"
            },
            "type": "carpet"
           }
          ],
          "choropleth": [
           {
            "colorbar": {
             "outlinewidth": 0,
             "ticks": ""
            },
            "type": "choropleth"
           }
          ],
          "contour": [
           {
            "colorbar": {
             "outlinewidth": 0,
             "ticks": ""
            },
            "colorscale": [
             [
              0,
              "#0d0887"
             ],
             [
              0.1111111111111111,
              "#46039f"
             ],
             [
              0.2222222222222222,
              "#7201a8"
             ],
             [
              0.3333333333333333,
              "#9c179e"
             ],
             [
              0.4444444444444444,
              "#bd3786"
             ],
             [
              0.5555555555555556,
              "#d8576b"
             ],
             [
              0.6666666666666666,
              "#ed7953"
             ],
             [
              0.7777777777777778,
              "#fb9f3a"
             ],
             [
              0.8888888888888888,
              "#fdca26"
             ],
             [
              1,
              "#f0f921"
             ]
            ],
            "type": "contour"
           }
          ],
          "contourcarpet": [
           {
            "colorbar": {
             "outlinewidth": 0,
             "ticks": ""
            },
            "type": "contourcarpet"
           }
          ],
          "heatmap": [
           {
            "colorbar": {
             "outlinewidth": 0,
             "ticks": ""
            },
            "colorscale": [
             [
              0,
              "#0d0887"
             ],
             [
              0.1111111111111111,
              "#46039f"
             ],
             [
              0.2222222222222222,
              "#7201a8"
             ],
             [
              0.3333333333333333,
              "#9c179e"
             ],
             [
              0.4444444444444444,
              "#bd3786"
             ],
             [
              0.5555555555555556,
              "#d8576b"
             ],
             [
              0.6666666666666666,
              "#ed7953"
             ],
             [
              0.7777777777777778,
              "#fb9f3a"
             ],
             [
              0.8888888888888888,
              "#fdca26"
             ],
             [
              1,
              "#f0f921"
             ]
            ],
            "type": "heatmap"
           }
          ],
          "histogram": [
           {
            "marker": {
             "pattern": {
              "fillmode": "overlay",
              "size": 10,
              "solidity": 0.2
             }
            },
            "type": "histogram"
           }
          ],
          "histogram2d": [
           {
            "colorbar": {
             "outlinewidth": 0,
             "ticks": ""
            },
            "colorscale": [
             [
              0,
              "#0d0887"
             ],
             [
              0.1111111111111111,
              "#46039f"
             ],
             [
              0.2222222222222222,
              "#7201a8"
             ],
             [
              0.3333333333333333,
              "#9c179e"
             ],
             [
              0.4444444444444444,
              "#bd3786"
             ],
             [
              0.5555555555555556,
              "#d8576b"
             ],
             [
              0.6666666666666666,
              "#ed7953"
             ],
             [
              0.7777777777777778,
              "#fb9f3a"
             ],
             [
              0.8888888888888888,
              "#fdca26"
             ],
             [
              1,
              "#f0f921"
             ]
            ],
            "type": "histogram2d"
           }
          ],
          "histogram2dcontour": [
           {
            "colorbar": {
             "outlinewidth": 0,
             "ticks": ""
            },
            "colorscale": [
             [
              0,
              "#0d0887"
             ],
             [
              0.1111111111111111,
              "#46039f"
             ],
             [
              0.2222222222222222,
              "#7201a8"
             ],
             [
              0.3333333333333333,
              "#9c179e"
             ],
             [
              0.4444444444444444,
              "#bd3786"
             ],
             [
              0.5555555555555556,
              "#d8576b"
             ],
             [
              0.6666666666666666,
              "#ed7953"
             ],
             [
              0.7777777777777778,
              "#fb9f3a"
             ],
             [
              0.8888888888888888,
              "#fdca26"
             ],
             [
              1,
              "#f0f921"
             ]
            ],
            "type": "histogram2dcontour"
           }
          ],
          "mesh3d": [
           {
            "colorbar": {
             "outlinewidth": 0,
             "ticks": ""
            },
            "type": "mesh3d"
           }
          ],
          "parcoords": [
           {
            "line": {
             "colorbar": {
              "outlinewidth": 0,
              "ticks": ""
             }
            },
            "type": "parcoords"
           }
          ],
          "pie": [
           {
            "automargin": true,
            "type": "pie"
           }
          ],
          "scatter": [
           {
            "fillpattern": {
             "fillmode": "overlay",
             "size": 10,
             "solidity": 0.2
            },
            "type": "scatter"
           }
          ],
          "scatter3d": [
           {
            "line": {
             "colorbar": {
              "outlinewidth": 0,
              "ticks": ""
             }
            },
            "marker": {
             "colorbar": {
              "outlinewidth": 0,
              "ticks": ""
             }
            },
            "type": "scatter3d"
           }
          ],
          "scattercarpet": [
           {
            "marker": {
             "colorbar": {
              "outlinewidth": 0,
              "ticks": ""
             }
            },
            "type": "scattercarpet"
           }
          ],
          "scattergeo": [
           {
            "marker": {
             "colorbar": {
              "outlinewidth": 0,
              "ticks": ""
             }
            },
            "type": "scattergeo"
           }
          ],
          "scattergl": [
           {
            "marker": {
             "colorbar": {
              "outlinewidth": 0,
              "ticks": ""
             }
            },
            "type": "scattergl"
           }
          ],
          "scattermap": [
           {
            "marker": {
             "colorbar": {
              "outlinewidth": 0,
              "ticks": ""
             }
            },
            "type": "scattermap"
           }
          ],
          "scattermapbox": [
           {
            "marker": {
             "colorbar": {
              "outlinewidth": 0,
              "ticks": ""
             }
            },
            "type": "scattermapbox"
           }
          ],
          "scatterpolar": [
           {
            "marker": {
             "colorbar": {
              "outlinewidth": 0,
              "ticks": ""
             }
            },
            "type": "scatterpolar"
           }
          ],
          "scatterpolargl": [
           {
            "marker": {
             "colorbar": {
              "outlinewidth": 0,
              "ticks": ""
             }
            },
            "type": "scatterpolargl"
           }
          ],
          "scatterternary": [
           {
            "marker": {
             "colorbar": {
              "outlinewidth": 0,
              "ticks": ""
             }
            },
            "type": "scatterternary"
           }
          ],
          "surface": [
           {
            "colorbar": {
             "outlinewidth": 0,
             "ticks": ""
            },
            "colorscale": [
             [
              0,
              "#0d0887"
             ],
             [
              0.1111111111111111,
              "#46039f"
             ],
             [
              0.2222222222222222,
              "#7201a8"
             ],
             [
              0.3333333333333333,
              "#9c179e"
             ],
             [
              0.4444444444444444,
              "#bd3786"
             ],
             [
              0.5555555555555556,
              "#d8576b"
             ],
             [
              0.6666666666666666,
              "#ed7953"
             ],
             [
              0.7777777777777778,
              "#fb9f3a"
             ],
             [
              0.8888888888888888,
              "#fdca26"
             ],
             [
              1,
              "#f0f921"
             ]
            ],
            "type": "surface"
           }
          ],
          "table": [
           {
            "cells": {
             "fill": {
              "color": "#EBF0F8"
             },
             "line": {
              "color": "white"
             }
            },
            "header": {
             "fill": {
              "color": "#C8D4E3"
             },
             "line": {
              "color": "white"
             }
            },
            "type": "table"
           }
          ]
         },
         "layout": {
          "annotationdefaults": {
           "arrowcolor": "#2a3f5f",
           "arrowhead": 0,
           "arrowwidth": 1
          },
          "autotypenumbers": "strict",
          "coloraxis": {
           "colorbar": {
            "outlinewidth": 0,
            "ticks": ""
           }
          },
          "colorscale": {
           "diverging": [
            [
             0,
             "#8e0152"
            ],
            [
             0.1,
             "#c51b7d"
            ],
            [
             0.2,
             "#de77ae"
            ],
            [
             0.3,
             "#f1b6da"
            ],
            [
             0.4,
             "#fde0ef"
            ],
            [
             0.5,
             "#f7f7f7"
            ],
            [
             0.6,
             "#e6f5d0"
            ],
            [
             0.7,
             "#b8e186"
            ],
            [
             0.8,
             "#7fbc41"
            ],
            [
             0.9,
             "#4d9221"
            ],
            [
             1,
             "#276419"
            ]
           ],
           "sequential": [
            [
             0,
             "#0d0887"
            ],
            [
             0.1111111111111111,
             "#46039f"
            ],
            [
             0.2222222222222222,
             "#7201a8"
            ],
            [
             0.3333333333333333,
             "#9c179e"
            ],
            [
             0.4444444444444444,
             "#bd3786"
            ],
            [
             0.5555555555555556,
             "#d8576b"
            ],
            [
             0.6666666666666666,
             "#ed7953"
            ],
            [
             0.7777777777777778,
             "#fb9f3a"
            ],
            [
             0.8888888888888888,
             "#fdca26"
            ],
            [
             1,
             "#f0f921"
            ]
           ],
           "sequentialminus": [
            [
             0,
             "#0d0887"
            ],
            [
             0.1111111111111111,
             "#46039f"
            ],
            [
             0.2222222222222222,
             "#7201a8"
            ],
            [
             0.3333333333333333,
             "#9c179e"
            ],
            [
             0.4444444444444444,
             "#bd3786"
            ],
            [
             0.5555555555555556,
             "#d8576b"
            ],
            [
             0.6666666666666666,
             "#ed7953"
            ],
            [
             0.7777777777777778,
             "#fb9f3a"
            ],
            [
             0.8888888888888888,
             "#fdca26"
            ],
            [
             1,
             "#f0f921"
            ]
           ]
          },
          "colorway": [
           "#636efa",
           "#EF553B",
           "#00cc96",
           "#ab63fa",
           "#FFA15A",
           "#19d3f3",
           "#FF6692",
           "#B6E880",
           "#FF97FF",
           "#FECB52"
          ],
          "font": {
           "color": "#2a3f5f"
          },
          "geo": {
           "bgcolor": "white",
           "lakecolor": "white",
           "landcolor": "white",
           "showlakes": true,
           "showland": true,
           "subunitcolor": "#C8D4E3"
          },
          "hoverlabel": {
           "align": "left"
          },
          "hovermode": "closest",
          "mapbox": {
           "style": "light"
          },
          "paper_bgcolor": "white",
          "plot_bgcolor": "white",
          "polar": {
           "angularaxis": {
            "gridcolor": "#EBF0F8",
            "linecolor": "#EBF0F8",
            "ticks": ""
           },
           "bgcolor": "white",
           "radialaxis": {
            "gridcolor": "#EBF0F8",
            "linecolor": "#EBF0F8",
            "ticks": ""
           }
          },
          "scene": {
           "xaxis": {
            "backgroundcolor": "white",
            "gridcolor": "#DFE8F3",
            "gridwidth": 2,
            "linecolor": "#EBF0F8",
            "showbackground": true,
            "ticks": "",
            "zerolinecolor": "#EBF0F8"
           },
           "yaxis": {
            "backgroundcolor": "white",
            "gridcolor": "#DFE8F3",
            "gridwidth": 2,
            "linecolor": "#EBF0F8",
            "showbackground": true,
            "ticks": "",
            "zerolinecolor": "#EBF0F8"
           },
           "zaxis": {
            "backgroundcolor": "white",
            "gridcolor": "#DFE8F3",
            "gridwidth": 2,
            "linecolor": "#EBF0F8",
            "showbackground": true,
            "ticks": "",
            "zerolinecolor": "#EBF0F8"
           }
          },
          "shapedefaults": {
           "line": {
            "color": "#2a3f5f"
           }
          },
          "ternary": {
           "aaxis": {
            "gridcolor": "#DFE8F3",
            "linecolor": "#A2B1C6",
            "ticks": ""
           },
           "baxis": {
            "gridcolor": "#DFE8F3",
            "linecolor": "#A2B1C6",
            "ticks": ""
           },
           "bgcolor": "white",
           "caxis": {
            "gridcolor": "#DFE8F3",
            "linecolor": "#A2B1C6",
            "ticks": ""
           }
          },
          "title": {
           "x": 0.05
          },
          "xaxis": {
           "automargin": true,
           "gridcolor": "#EBF0F8",
           "linecolor": "#EBF0F8",
           "ticks": "",
           "title": {
            "standoff": 15
           },
           "zerolinecolor": "#EBF0F8",
           "zerolinewidth": 2
          },
          "yaxis": {
           "automargin": true,
           "gridcolor": "#EBF0F8",
           "linecolor": "#EBF0F8",
           "ticks": "",
           "title": {
            "standoff": 15
           },
           "zerolinecolor": "#EBF0F8",
           "zerolinewidth": 2
          }
         }
        },
        "title": {
         "font": {
          "color": "black",
          "size": 18
         },
         "pad": {
          "b": 20
         },
         "text": "<b>Análise de Retroação (Backcasting) do Gini (1872-1975) com k=1 Lags</b>",
         "x": 0.5,
         "xanchor": "center"
        },
        "xaxis": {
         "range": [
          1872,
          2022
         ],
         "title": {
          "text": "Ano"
         }
        },
        "yaxis": {
         "range": [
          0.3,
          0.6
         ],
         "title": {
          "text": "Índice de Gini"
         }
        }
       }
      }
     },
     "metadata": {},
     "output_type": "display_data"
    },
    {
     "name": "stdout",
     "output_type": "stream",
     "text": [
      "\n",
      "======================================================================\n",
      "GERANDO GRÁFICO ESTÁTICO MATPLOTLIB\n",
      "======================================================================\n",
      "\n",
      "Salvando Matplotlib em: /mnt/c/Users/daves/OneDrive/Pessoal/Acadêmico/Doutorado/Codes/grafico_backcasting_estatico_k1lags.jpg\n",
      "✓ SUCESSO! Gráfico Matplotlib salvo\n",
      "  → Arquivo: grafico_backcasting_estatico_k1lags.jpg\n",
      "  → Tamanho: 470.3 KB\n",
      "  → Caminho absoluto: /mnt/c/Users/daves/OneDrive/Pessoal/Acadêmico/Doutorado/Codes/grafico_backcasting_estatico_k1lags.jpg\n",
      "  → Caminho Windows: C:\\Users\\daves\\OneDrive\\Pessoal\\Acadêmico\\Doutorado\\Codes\\grafico_backcasting_estatico_k1lags.jpg\n"
     ]
    },
    {
     "data": {
      "image/png": "[encoded data removed]",
      "text/plain": [
       "<Figure size 1200x800 with 1 Axes>"
      ]
     },
     "metadata": {},
     "output_type": "display_data"
    },
    {
     "name": "stdout",
     "output_type": "stream",
     "text": [
      "\n",
      "======================================================================\n",
      "RESUMO DOS ARQUIVOS GERADOS\n",
      "======================================================================\n",
      "Diretório: /mnt/c/Users/daves/OneDrive/Pessoal/Acadêmico/Doutorado/Codes\n",
      "\n",
      "Arquivos:\n",
      "  1. grafico_backcasting_interativo_k1lags.html\n",
      "     Existe: True\n",
      "     Tamanho: 4755.0 KB\n",
      "\n",
      "  2. grafico_backcasting_estatico_k1lags.jpg\n",
      "     Existe: True\n",
      "     Tamanho: 470.3 KB\n",
      "\n",
      "======================================================================\n",
      "✓ VISUALIZAÇÃO CONCLUÍDA\n",
      "======================================================================\n"
     ]
    }
   ],
   "source": [
    "# ===========================\n",
    "# 9. VISUALIZAÇÃO - VERSÃO WSL\n",
    "# ===========================\n",
    "import plotly.graph_objects as go\n",
    "import plotly.colors\n",
    "import matplotlib.pyplot as plt\n",
    "import matplotlib.ticker as mtick\n",
    "import seaborn as sns\n",
    "import os\n",
    "from pathlib import Path\n",
    "import numpy as np\n",
    "\n",
    "# --- Labels Atualizados ---\n",
    "ols_label = f'OLS (k={k_lags_selecionados} Lags)'\n",
    "markov_label = f'Markov (k={k_lags_selecionados} Lags)'\n",
    "gam_label = f'GAM (k={k_lags_selecionados} Lags)'\n",
    "bayes_label = f'Bayesiano (k={k_lags_selecionados} Lags)'\n",
    "quantum_base_label = f'Quantum (k={k_lags_selecionados} Lags)'\n",
    "ts_label = 'Série Temporal (UCM)'\n",
    "\n",
    "# --- Cores ---\n",
    "if 'cores' not in locals() or not all(k in cores for k in [ols_label, markov_label, gam_label, ts_label, bayes_label, quantum_base_label]):\n",
    "     cores = {\n",
    "         ols_label: '#FF6B6B', markov_label: '#F4A261', gam_label: '#4ECDC4',\n",
    "         ts_label: '#FFE66D', bayes_label: '#95E1D3', quantum_base_label: '#9D4EDD'\n",
    "     }\n",
    "     print(\"Aviso: Dicionário 'cores' redefinido.\")\n",
    "\n",
    "# ====================================================================\n",
    "# CONFIGURAÇÃO DE DIRETÓRIO - WSL\n",
    "# ====================================================================\n",
    "\n",
    "print(\"\\n\" + \"=\"*70)\n",
    "print(\"CONFIGURANDO DIRETÓRIO DE SAÍDA (WSL)\")\n",
    "print(\"=\"*70)\n",
    "\n",
    "# Converter caminho Windows para WSL\n",
    "# C:\\Users\\daves\\OneDrive\\... -> /mnt/c/Users/daves/OneDrive/...\n",
    "output_dir = Path('/mnt/c/Users/daves/OneDrive/Pessoal/Acadêmico/Doutorado/Codes')\n",
    "\n",
    "print(f\"Diretório de saída (WSL): {output_dir}\")\n",
    "print(f\"Existe: {output_dir.exists()}\")\n",
    "\n",
    "# Verificar se é gravável\n",
    "if output_dir.exists():\n",
    "    try:\n",
    "        test_file = output_dir / \"test_write.tmp\"\n",
    "        test_file.touch()\n",
    "        test_file.unlink()\n",
    "        print(f\"✓ Diretório é gravável\")\n",
    "    except Exception as e:\n",
    "        print(f\"⚠ Erro ao testar escrita: {e}\")\n",
    "        output_dir = Path.cwd()\n",
    "        print(f\"→ Usando diretório atual: {output_dir}\")\n",
    "else:\n",
    "    print(f\"⚠ Diretório não existe!\")\n",
    "    output_dir = Path.cwd()\n",
    "    print(f\"→ Usando diretório atual: {output_dir}\")\n",
    "\n",
    "# ====================================================================\n",
    "# 9.a GRÁFICO INTERATIVO PLOTLY\n",
    "# ====================================================================\n",
    "\n",
    "print(\"\\n\" + \"=\"*70)\n",
    "print(\"GERANDO GRÁFICO INTERATIVO PLOTLY\")\n",
    "print(\"=\"*70)\n",
    "\n",
    "fig_plotly = go.Figure()\n",
    "\n",
    "# Gini Verdadeiro e Observado\n",
    "fig_plotly.add_trace(go.Scatter(\n",
    "    x=df['Ano'], y=df['Gini_Verdadeiro'], \n",
    "    mode='lines', name='Gini Verdadeiro', \n",
    "    line=dict(color='black', width=2.5, dash='dash'), \n",
    "    hoverinfo='name+x+y', legendgroup='Gini'\n",
    "))\n",
    "\n",
    "fig_plotly.add_trace(go.Scatter(\n",
    "    x=df_moderno['Ano'], y=df_moderno['Gini_Observado'], \n",
    "    mode='markers', name='Observado (1976+)', \n",
    "    marker=dict(color='dimgray', size=8, opacity=0.7), \n",
    "    hoverinfo='name+x+y', legendgroup='Gini'\n",
    "))\n",
    "\n",
    "fig_plotly.add_vline(\n",
    "    x=ano_inicio_pnad, line_dash=\"dot\", line_color=\"gray\", \n",
    "    line_width=2, annotation_text=\"Início dos dados modernos\", \n",
    "    annotation_position=\"top left\"\n",
    ")\n",
    "\n",
    "# --- Funções auxiliares Plotly ---\n",
    "def add_model_trace(fig, df_hist, col_name, color, line_style, label, legend_group, show_legend=True):\n",
    "    if col_name in df_hist.columns and not df_hist[col_name].isnull().all():\n",
    "        fig.add_trace(go.Scatter(\n",
    "            x=df_hist['Ano'], y=df_hist[col_name],\n",
    "            mode='lines', name=label, \n",
    "            line=dict(color=color, width=2.5, dash=line_style),\n",
    "            hoverinfo='name+x+y', legendgroup=legend_group, \n",
    "            showlegend=show_legend\n",
    "        ))\n",
    "\n",
    "def add_fill_trace(fig, df_hist, low_col, high_col, color, model_name, legend_group):\n",
    "    if low_col in df_hist.columns and high_col in df_hist.columns and \\\n",
    "       not df_hist[low_col].isnull().all() and not df_hist[high_col].isnull().all():\n",
    "        fig.add_trace(go.Scatter(\n",
    "            x=df_hist['Ano'], y=df_hist[high_col], \n",
    "            mode='lines', line=dict(width=0),\n",
    "            showlegend=False, hoverinfo='skip', \n",
    "            legendgroup=legend_group\n",
    "        ))\n",
    "        rgb = plotly.colors.hex_to_rgb(color)\n",
    "        rgba_color = f'rgba({rgb[0]}, {rgb[1]}, {rgb[2]}, 0.15)'\n",
    "        fig.add_trace(go.Scatter(\n",
    "            x=df_hist['Ano'], y=df_hist[low_col], \n",
    "            mode='lines', line=dict(width=0),\n",
    "            fill='tonexty', fillcolor=rgba_color, \n",
    "            name=f'{model_name} (Intervalo 95%)',\n",
    "            hoverinfo='name+x', legendgroup=legend_group\n",
    "        ))\n",
    "\n",
    "# Adicionar modelos\n",
    "add_model_trace(fig_plotly, df_historico, 'Gini_OLS', cores[ols_label], 'solid', ols_label, 'OLS', True)\n",
    "\n",
    "add_model_trace(fig_plotly, df_historico, 'Gini_Markov', cores[markov_label], 'solid', markov_label, 'Markov', True)\n",
    "if ('Gini_Markov_Low' in df_historico.columns and 'Gini_Markov_High' in df_historico.columns):\n",
    "    add_fill_trace(fig_plotly, df_historico, 'Gini_Markov_Low', 'Gini_Markov_High', cores[markov_label], markov_label, 'Markov')\n",
    "\n",
    "add_model_trace(fig_plotly, df_historico, 'Gini_GAM', cores[gam_label], 'solid', gam_label, 'GAM', True)\n",
    "if ('Gini_GAM_Low' in df_historico.columns and 'Gini_GAM_High' in df_historico.columns):\n",
    "    add_fill_trace(fig_plotly, df_historico, 'Gini_GAM_Low', 'Gini_GAM_High', cores[gam_label], gam_label, 'GAM')\n",
    "\n",
    "add_model_trace(fig_plotly, df_historico, 'Gini_TimeSeries', cores[ts_label], 'solid', ts_label, 'TS', True)\n",
    "if ('Gini_TS_Low' in df_historico.columns and 'Gini_TS_High' in df_historico.columns):\n",
    "     add_fill_trace(fig_plotly, df_historico, 'Gini_TS_Low', 'Gini_TS_High', cores[ts_label], ts_label, 'TS')\n",
    "\n",
    "if 'Gini_Bayes_Hierarquico' in df_historico.columns and not df_historico['Gini_Bayes_Hierarquico'].isnull().all():\n",
    "    add_model_trace(fig_plotly, df_historico, 'Gini_Bayes_Hierarquico', cores[bayes_label], 'solid', bayes_label, 'Bayes', True)\n",
    "    if ('Gini_Bayes_Low' in df_historico.columns and 'Gini_Bayes_High' in df_historico.columns):\n",
    "        add_fill_trace(fig_plotly, df_historico, 'Gini_Bayes_Low', 'Gini_Bayes_High', cores[bayes_label], bayes_label, 'Bayes')\n",
    "\n",
    "if 'Gini_Quantum' in df_historico.columns and not df_historico['Gini_Quantum'].isnull().all():\n",
    "    if 'quantum_success' not in locals(): \n",
    "        quantum_success = False\n",
    "    q_linestyle = 'dashdot' if quantum_success else 'dot'\n",
    "    q_label = f'{quantum_base_label} (QAOA)' if quantum_success else f'{quantum_base_label} (Fallback)'\n",
    "    add_model_trace(fig_plotly, df_historico, 'Gini_Quantum', cores[quantum_base_label], q_linestyle, q_label, 'Quantum', True)\n",
    "\n",
    "# Layout Plotly\n",
    "fig_plotly.update_layout(\n",
    "    title=dict(\n",
    "        text=f'<b>Análise de Retroação (Backcasting) do Gini (1872-1975) com k={k_lags_selecionados} Lags</b>', \n",
    "        x=0.5, xanchor='center', \n",
    "        font=dict(size=18, color='black'), \n",
    "        pad=dict(b=20)\n",
    "    ),\n",
    "    hovermode='x unified',\n",
    "    legend=dict(\n",
    "        orientation=\"h\", yanchor=\"top\", y=-0.2, \n",
    "        xanchor=\"center\", x=0.5, font=dict(size=9), \n",
    "        bgcolor=\"rgba(255,255,255,0.7)\", \n",
    "        bordercolor=\"lightgray\", borderwidth=1\n",
    "    ),\n",
    "    margin=dict(l=40, r=40, t=80, b=120), \n",
    "    height=700, \n",
    "    template=\"plotly_white\",\n",
    "    xaxis=dict(range=[df['Ano'].min(), df['Ano'].max()], title='Ano'),\n",
    "    yaxis=dict(range=[0.3, 0.6], title='Índice de Gini')\n",
    ")\n",
    "\n",
    "# --- Salvar Plotly ---\n",
    "output_filename_plotly = f\"grafico_backcasting_interativo_k{k_lags_selecionados}lags.html\"\n",
    "output_path_plotly = output_dir / output_filename_plotly\n",
    "\n",
    "print(f\"\\nSalvando Plotly em: {output_path_plotly}\")\n",
    "\n",
    "try:\n",
    "    # IMPORTANTE: usar str() para converter Path em string\n",
    "    fig_plotly.write_html(str(output_path_plotly))\n",
    "    \n",
    "    # Dar tempo para o sistema de arquivos sincronizar (OneDrive)\n",
    "    import time\n",
    "    time.sleep(0.5)\n",
    "    \n",
    "    # Verificar se foi criado\n",
    "    if output_path_plotly.exists():\n",
    "        file_size = output_path_plotly.stat().st_size\n",
    "        print(f\"✓ SUCESSO! Gráfico Plotly salvo\")\n",
    "        print(f\"  → Arquivo: {output_path_plotly.name}\")\n",
    "        print(f\"  → Tamanho: {file_size / 1024:.1f} KB\")\n",
    "        print(f\"  → Caminho absoluto: {output_path_plotly.absolute()}\")\n",
    "        \n",
    "        # Converter para caminho Windows para o usuário\n",
    "        caminho_windows = str(output_path_plotly).replace('/mnt/c/', 'C:\\\\').replace('/', '\\\\')\n",
    "        print(f\"  → Caminho Windows: {caminho_windows}\")\n",
    "    else:\n",
    "        print(f\"⚠ AVISO: Arquivo não encontrado após salvamento!\")\n",
    "        print(f\"  → Caminho tentado: {output_path_plotly}\")\n",
    "        \n",
    "except Exception as e:\n",
    "    print(f\"✗ ERRO ao salvar Plotly: {e}\")\n",
    "    import traceback\n",
    "    traceback.print_exc()\n",
    "\n",
    "# Mostrar gráfico\n",
    "fig_plotly.show()\n",
    "\n",
    "\n",
    "# ====================================================================\n",
    "# 9.b GRÁFICO ESTÁTICO MATPLOTLIB\n",
    "# ====================================================================\n",
    "\n",
    "print(\"\\n\" + \"=\"*70)\n",
    "print(\"GERANDO GRÁFICO ESTÁTICO MATPLOTLIB\")\n",
    "print(\"=\"*70)\n",
    "\n",
    "# Configuração\n",
    "sns.set_style(\"whitegrid\")\n",
    "plt.rcParams['figure.dpi'] = 100\n",
    "\n",
    "fig_mpl, ax_mpl = plt.subplots(figsize=(12, 8))\n",
    "\n",
    "# --- Funções auxiliares Matplotlib ---\n",
    "line_styles_mpl = {'solid': '-', 'dash': '--', 'dot': ':', 'dashdot': '-.'}\n",
    "\n",
    "def add_model_trace_mpl(ax, df_hist, col_name, color, line_style_key, label):\n",
    "    if col_name in df_hist.columns and not df_hist[col_name].isnull().all():\n",
    "        ax.plot(\n",
    "            df_hist['Ano'], df_hist[col_name], \n",
    "            color=color,\n",
    "            linestyle=line_styles_mpl.get(line_style_key, '-'),\n",
    "            linewidth=2.0, label=label, zorder=2\n",
    "        )\n",
    "\n",
    "def add_fill_trace_mpl(ax, df_hist, low_col, high_col, color, model_name):\n",
    "    if low_col in df_hist.columns and high_col in df_hist.columns and \\\n",
    "       not df_hist[low_col].isnull().all() and not df_hist[high_col].isnull().all():\n",
    "        ax.fill_between(\n",
    "            df_hist['Ano'], df_hist[low_col], df_hist[high_col],\n",
    "            color=color, alpha=0.15, \n",
    "            label=f'{model_name} (Intervalo 95%)', \n",
    "            zorder=1\n",
    "        )\n",
    "\n",
    "# Plotar dados\n",
    "ax_mpl.plot(df['Ano'], df['Gini_Verdadeiro'], \n",
    "           color='black', linestyle='--', linewidth=2.0, \n",
    "           label='Gini Verdadeiro', zorder=3)\n",
    "\n",
    "ax_mpl.plot(df_moderno['Ano'], df_moderno['Gini_Observado'], \n",
    "           marker='o', markersize=6, \n",
    "           markerfacecolor='dimgray', markeredgecolor='dimgray', \n",
    "           linestyle='None', label='Observado (1976+)', \n",
    "           alpha=0.7, zorder=4)\n",
    "\n",
    "ax_mpl.axvline(x=ano_inicio_pnad, color=\"gray\", \n",
    "              linestyle=':', linewidth=2, zorder=2)\n",
    "\n",
    "ax_mpl.annotate(\"Início dos dados modernos\", \n",
    "               xy=(ano_inicio_pnad, 0.58), \n",
    "               xytext=(ano_inicio_pnad + 2, 0.56),\n",
    "               arrowprops=dict(facecolor='gray', shrink=0.05, \n",
    "                             width=1, headwidth=4),\n",
    "               horizontalalignment='left', \n",
    "               color='gray', zorder=3)\n",
    "\n",
    "# Adicionar modelos\n",
    "add_model_trace_mpl(ax_mpl, df_historico, 'Gini_OLS', cores[ols_label], 'solid', ols_label)\n",
    "\n",
    "add_model_trace_mpl(ax_mpl, df_historico, 'Gini_Markov', cores[markov_label], 'solid', markov_label)\n",
    "if ('Gini_Markov_Low' in df_historico.columns and 'Gini_Markov_High' in df_historico.columns):\n",
    "    add_fill_trace_mpl(ax_mpl, df_historico, 'Gini_Markov_Low', 'Gini_Markov_High', cores[markov_label], markov_label)\n",
    "\n",
    "add_model_trace_mpl(ax_mpl, df_historico, 'Gini_GAM', cores[gam_label], 'solid', gam_label)\n",
    "if ('Gini_GAM_Low' in df_historico.columns and 'Gini_GAM_High' in df_historico.columns):\n",
    "    add_fill_trace_mpl(ax_mpl, df_historico, 'Gini_GAM_Low', 'Gini_GAM_High', cores[gam_label], gam_label)\n",
    "\n",
    "add_model_trace_mpl(ax_mpl, df_historico, 'Gini_TimeSeries', cores[ts_label], 'solid', ts_label)\n",
    "if ('Gini_TS_Low' in df_historico.columns and 'Gini_TS_High' in df_historico.columns):\n",
    "    add_fill_trace_mpl(ax_mpl, df_historico, 'Gini_TS_Low', 'Gini_TS_High', cores[ts_label], ts_label)\n",
    "\n",
    "if 'Gini_Bayes_Hierarquico' in df_historico.columns and not df_historico['Gini_Bayes_Hierarquico'].isnull().all():\n",
    "    add_model_trace_mpl(ax_mpl, df_historico, 'Gini_Bayes_Hierarquico', cores[bayes_label], 'solid', bayes_label)\n",
    "    if ('Gini_Bayes_Low' in df_historico.columns and 'Gini_Bayes_High' in df_historico.columns):\n",
    "        add_fill_trace_mpl(ax_mpl, df_historico, 'Gini_Bayes_Low', 'Gini_Bayes_High', cores[bayes_label], bayes_label)\n",
    "\n",
    "if 'Gini_Quantum' in df_historico.columns and not df_historico['Gini_Quantum'].isnull().all():\n",
    "    if 'quantum_success' not in locals(): \n",
    "        quantum_success = False\n",
    "    q_linestyle_mpl_key = 'dashdot' if quantum_success else 'dot'\n",
    "    q_label_mpl = f'{quantum_base_label} (QAOA)' if quantum_success else f'{quantum_base_label} (Fallback)'\n",
    "    ax_mpl.plot(df_historico['Ano'], df_historico['Gini_Quantum'], \n",
    "               color=cores[quantum_base_label],\n",
    "               linestyle=line_styles_mpl.get(q_linestyle_mpl_key, '-'),\n",
    "               linewidth=2.0, label=q_label_mpl, zorder=2)\n",
    "\n",
    "# Layout\n",
    "ax_mpl.set_title(\n",
    "    f'Análise de Retroação (Backcasting) do Gini (1872-1975) com k={k_lags_selecionados} Lags', \n",
    "    fontsize=16, fontweight='bold', pad=20\n",
    ")\n",
    "ax_mpl.set_xlabel('Ano', fontsize=12)\n",
    "ax_mpl.set_ylabel('Índice de Gini', fontsize=12)\n",
    "ax_mpl.set_xlim(df['Ano'].min(), df['Ano'].max())\n",
    "ax_mpl.set_ylim(0.3, 0.6)\n",
    "ax_mpl.xaxis.set_major_locator(mtick.MultipleLocator(20))\n",
    "ax_mpl.yaxis.set_major_locator(mtick.MultipleLocator(0.05))\n",
    "ax_mpl.tick_params(axis='both', which='major', labelsize=10)\n",
    "\n",
    "num_legend_items = len(ax_mpl.get_legend_handles_labels()[0])\n",
    "ncol_legend = min(num_legend_items, 3)\n",
    "leg_mpl = ax_mpl.legend(\n",
    "    loc='upper center', bbox_to_anchor=(0.5, -0.12), \n",
    "    ncol=ncol_legend, fontsize=9, frameon=True, \n",
    "    edgecolor='lightgray', facecolor='white'\n",
    ")\n",
    "\n",
    "fig_mpl.tight_layout()\n",
    "plt.subplots_adjust(bottom=0.25 if num_legend_items > 3 else 0.2)\n",
    "\n",
    "# --- Salvar Matplotlib ---\n",
    "output_filename_mpl = f\"grafico_backcasting_estatico_k{k_lags_selecionados}lags.jpg\"\n",
    "output_path_mpl = output_dir / output_filename_mpl\n",
    "\n",
    "print(f\"\\nSalvando Matplotlib em: {output_path_mpl}\")\n",
    "\n",
    "try:\n",
    "    # IMPORTANTE: usar str() para converter Path em string\n",
    "    fig_mpl.savefig(str(output_path_mpl), format='jpg', \n",
    "                    dpi=300, bbox_inches='tight')\n",
    "    \n",
    "    # Dar tempo para sincronizar\n",
    "    import time\n",
    "    time.sleep(0.5)\n",
    "    \n",
    "    # Verificar\n",
    "    if output_path_mpl.exists():\n",
    "        file_size = output_path_mpl.stat().st_size\n",
    "        print(f\"✓ SUCESSO! Gráfico Matplotlib salvo\")\n",
    "        print(f\"  → Arquivo: {output_path_mpl.name}\")\n",
    "        print(f\"  → Tamanho: {file_size / 1024:.1f} KB\")\n",
    "        print(f\"  → Caminho absoluto: {output_path_mpl.absolute()}\")\n",
    "        \n",
    "        # Converter para Windows\n",
    "        caminho_windows = str(output_path_mpl).replace('/mnt/c/', 'C:\\\\').replace('/', '\\\\')\n",
    "        print(f\"  → Caminho Windows: {caminho_windows}\")\n",
    "    else:\n",
    "        print(f\"⚠ AVISO: Arquivo não encontrado após salvamento!\")\n",
    "        print(f\"  → Caminho tentado: {output_path_mpl}\")\n",
    "        \n",
    "except Exception as e:\n",
    "    print(f\"✗ ERRO ao salvar Matplotlib: {e}\")\n",
    "    import traceback\n",
    "    traceback.print_exc()\n",
    "\n",
    "plt.show()\n",
    "plt.close(fig_mpl)\n",
    "\n",
    "# ====================================================================\n",
    "# RESUMO FINAL\n",
    "# ====================================================================\n",
    "\n",
    "print(\"\\n\" + \"=\"*70)\n",
    "print(\"RESUMO DOS ARQUIVOS GERADOS\")\n",
    "print(\"=\"*70)\n",
    "print(f\"Diretório: {output_dir}\")\n",
    "print(f\"\\nArquivos:\")\n",
    "print(f\"  1. {output_filename_plotly}\")\n",
    "print(f\"     Existe: {output_path_plotly.exists()}\")\n",
    "if output_path_plotly.exists():\n",
    "    print(f\"     Tamanho: {output_path_plotly.stat().st_size / 1024:.1f} KB\")\n",
    "    \n",
    "print(f\"\\n  2. {output_filename_mpl}\")\n",
    "print(f\"     Existe: {output_path_mpl.exists()}\")\n",
    "if output_path_mpl.exists():\n",
    "    print(f\"     Tamanho: {output_path_mpl.stat().st_size / 1024:.1f} KB\")\n",
    "\n",
    "print(\"\\n\" + \"=\"*70)\n",
    "print(\"✓ VISUALIZAÇÃO CONCLUÍDA\")\n",
    "print(\"=\"*70)"
   ]
  },
  {
   "cell_type": "code",
   "execution_count": null,
   "id": "f6e73094",
   "metadata": {},
   "outputs": [],
   "source": []
  }
 ],
 "metadata": {
  "kernelspec": {
   "display_name": "tf_env",
   "language": "python",
   "name": "python3"
  },
  "language_info": {
   "codemirror_mode": {
    "name": "ipython",
    "version": 3
   },
   "file_extension": ".py",
   "mimetype": "text/x-python",
   "name": "python",
   "nbconvert_exporter": "python",
   "pygments_lexer": "ipython3",
   "version": "3.12.3"
  }
 },
 "nbformat": 4,
 "nbformat_minor": 5
}
